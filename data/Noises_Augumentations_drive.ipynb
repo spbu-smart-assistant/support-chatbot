{
  "nbformat": 4,
  "nbformat_minor": 0,
  "metadata": {
    "colab": {
      "provenance": []
    },
    "kernelspec": {
      "name": "python3",
      "display_name": "Python 3"
    },
    "language_info": {
      "name": "python"
    }
  },
  "cells": [
    {
      "cell_type": "code",
      "execution_count": null,
      "metadata": {
        "id": "P-3bPXtHhTxO"
      },
      "outputs": [],
      "source": [
        "\"\"\"\n",
        "Источник: https://github.com/NVIDIA/NeMo/blob/main/tutorials/asr/Online_Noise_Augmentation.ipynb\n",
        "\"\"\"\n",
        "\n",
        "#Установка необходимых пакетов\n",
        "BRANCH = 'main'\n",
        "!python -m pip install git+https://github.com/NVIDIA/NeMo.git@$BRANCH#egg=nemo_toolkit[asr]\n",
        "!pip install librosa==0.9.2\n",
        "!pip install json\n",
        "!pip install soundfile==0.12.1"
      ]
    },
    {
      "cell_type": "code",
      "source": [
        "import json\n",
        "from nemo.collections.asr.parts.preprocessing import perturb, segment\n",
        "import glob\n",
        "import soundfile as sf\n",
        "import os\n",
        "import librosa"
      ],
      "metadata": {
        "id": "KczBo8iolWd7"
      },
      "execution_count": null,
      "outputs": []
    },
    {
      "cell_type": "markdown",
      "source": [
        "* Перейдите в раздел \"Общий доступ\" в Google Диске.\n",
        "* Выберите SPbU_smart-assistant\n",
        "* Щелкните ее правой кнопкой мыши и выберите Добавить ярлык на диск.\n",
        "* Появится всплывающее окно, выберите MyDrive и нажмите Добавить ярлык.\n",
        "* Теперь перейдите в блокнот Google Colab и подключитесь к Google Диску с помощью кнопки\n"
      ],
      "metadata": {
        "id": "Cw8nP9b8BG8p"
      }
    },
    {
      "cell_type": "code",
      "source": [
        "from google.colab import drive\n",
        "drive.mount('/content/drive')"
      ],
      "metadata": {
        "colab": {
          "base_uri": "https://localhost:8080/"
        },
        "id": "rtJzu0i1ladr",
        "outputId": "4a9cb968-cb22-4736-ecab-09384e187a53"
      },
      "execution_count": 4,
      "outputs": [
        {
          "output_type": "stream",
          "name": "stdout",
          "text": [
            "Mounted at /content/drive\n"
          ]
        }
      ]
    },
    {
      "cell_type": "code",
      "source": [
        "# Загрузка набор данных. Это займет несколько мгновений...\n",
        "print(\"******\")\n",
        "if not os.path.exists(\"./raw\"):\n",
        "  os.makedirs(\"./raw\")\n",
        "\n",
        "if not os.path.exists(\"./noises\"):\n",
        "  os.makedirs(\"./noises\")\n",
        "\n",
        "for audio_path in glob.glob(\"/content/drive/MyDrive/SPbU_smart-assistant/noises/*.*\"):\n",
        "  !cp -v $audio_path \"./noises\"\n",
        "\n",
        "for audio_path in glob.glob(\"/content/drive/MyDrive/SPbU_smart-assistant/raw/*.*\"):\n",
        "  !cp -v $audio_path \"./raw\"\n",
        "print(\"Конец.\\n******\")"
      ],
      "metadata": {
        "colab": {
          "base_uri": "https://localhost:8080/"
        },
        "id": "8RVYunn4oALH",
        "outputId": "120b85c4-dbee-476e-b0a3-93736504b53e"
      },
      "execution_count": 5,
      "outputs": [
        {
          "output_type": "stream",
          "name": "stdout",
          "text": [
            "******\n",
            "'/content/drive/MyDrive/SPbU_smart-assistant/noises/1.wav' -> './noises/1.wav'\n",
            "'/content/drive/MyDrive/SPbU_smart-assistant/noises/2.wav' -> './noises/2.wav'\n",
            "'/content/drive/MyDrive/SPbU_smart-assistant/noises/3.wav' -> './noises/3.wav'\n",
            "'/content/drive/MyDrive/SPbU_smart-assistant/noises/6.wav' -> './noises/6.wav'\n",
            "'/content/drive/MyDrive/SPbU_smart-assistant/noises/7.wav' -> './noises/7.wav'\n",
            "'/content/drive/MyDrive/SPbU_smart-assistant/noises/4.wav' -> './noises/4.wav'\n",
            "'/content/drive/MyDrive/SPbU_smart-assistant/noises/5.wav' -> './noises/5.wav'\n",
            "'/content/drive/MyDrive/SPbU_smart-assistant/raw/Audio3.wav' -> './raw/Audio3.wav'\n",
            "'/content/drive/MyDrive/SPbU_smart-assistant/raw/Audio2.wav' -> './raw/Audio2.wav'\n",
            "'/content/drive/MyDrive/SPbU_smart-assistant/raw/Audio5.wav' -> './raw/Audio5.wav'\n",
            "'/content/drive/MyDrive/SPbU_smart-assistant/raw/Audio6.wav' -> './raw/Audio6.wav'\n",
            "'/content/drive/MyDrive/SPbU_smart-assistant/raw/Audio4.wav' -> './raw/Audio4.wav'\n",
            "'/content/drive/MyDrive/SPbU_smart-assistant/raw/Audio1.wav' -> './raw/Audio1.wav'\n",
            "Конец.\n",
            "******\n"
          ]
        }
      ]
    },
    {
      "cell_type": "code",
      "source": [
        "#загрузка первого аудио для определения sr\n",
        "example = glob.glob(\"/content/raw/*.*\")[0]\n",
        "sample, sr = librosa.core.load(example)"
      ],
      "metadata": {
        "id": "hS3tFwj4pK9s"
      },
      "execution_count": 6,
      "outputs": []
    },
    {
      "cell_type": "code",
      "source": [
        "#Вспомогательная функция из Nemo\n",
        "def load_audio(filepath) -> segment.AudioSegment:\n",
        "    sample_segment = segment.AudioSegment.from_file(filepath, target_sr=sr)\n",
        "    return sample_segment"
      ],
      "metadata": {
        "id": "6ndlLfncluer"
      },
      "execution_count": 7,
      "outputs": []
    },
    {
      "cell_type": "code",
      "source": [
        "#Функция создания манифеста шумов\n",
        "def write_manifest(filepath, data_dir='.', manifest_name='noise_manifest', duration_max=1e9, duration_stride=1.0):\n",
        "              \n",
        "    with open(os.path.join(data_dir, manifest_name + '.json'), 'w') as fout:\n",
        "        y, sr = librosa.load(filepath)\n",
        "        duration = librosa.get_duration(y=y, sr=sr)\n",
        "\n",
        "        offsets = []\n",
        "        durations = []\n",
        "\n",
        "        if duration > duration_max:\n",
        "            current_offset = 0.0\n",
        "\n",
        "            while current_offset < duration:\n",
        "                difference = duration - current_offset\n",
        "                segment_duration = min(duration_max, difference)\n",
        "\n",
        "                offsets.append(current_offset)\n",
        "                durations.append(segment_duration)\n",
        "\n",
        "                current_offset += duration_stride\n",
        "\n",
        "        else:\n",
        "            offsets.append(0.0)\n",
        "            durations.append(duration)\n",
        "\n",
        "\n",
        "        for duration, offset in zip(durations, offsets):\n",
        "            metadata = {\n",
        "                'audio_filepath': filepath,\n",
        "                'duration': duration,\n",
        "                'label': 'noise',\n",
        "                'text': '_',  # for compatibility with ASRAudioText collection\n",
        "                'offset': offset,\n",
        "            }\n",
        "\n",
        "            json.dump(metadata, fout)\n",
        "            fout.write('\\n')\n",
        "            fout.flush()\n",
        "\n",
        "        name = noise_path.split('/')[-1]\n",
        "        print(f\"Wrote {len(durations)} segments for filename {name}\")\n",
        "            \n",
        "    print(\"Finished preparing manifest !\")"
      ],
      "metadata": {
        "id": "HLWASQKAlxoZ"
      },
      "execution_count": 8,
      "outputs": []
    },
    {
      "cell_type": "code",
      "source": [
        "#Манифесты для всех аудио шумов\n",
        "if not os.path.exists(\"./manifests\"):\n",
        "  os.makedirs(\"./manifests\")\n",
        "\n",
        "for noise_path in glob.glob(\"/content/drive/MyDrive/SPbU_smart-assistant/noises/*.*\"):\n",
        "  noise_sample, noise_sr = librosa.core.load(noise_path)\n",
        "  sf.write(noise_path, noise_sample, samplerate=noise_sr)\n",
        "  noise_sample, noise_sr = librosa.core.load(noise_path)\n",
        "  name = noise_path.split('/')[-1][-5]\n",
        "  write_manifest(noise_path, data_dir='./manifests', manifest_name=f'noise_{name}s', duration_stride=1.0, duration_max=30.0)"
      ],
      "metadata": {
        "colab": {
          "base_uri": "https://localhost:8080/"
        },
        "id": "ksUlj8Vul5EI",
        "outputId": "7ebc55a2-7f05-4293-d12d-254c3f7248d4"
      },
      "execution_count": 9,
      "outputs": [
        {
          "output_type": "stream",
          "name": "stdout",
          "text": [
            "Wrote 48 segments for filename 1.wav\n",
            "Finished preparing manifest !\n",
            "Wrote 35 segments for filename 2.wav\n",
            "Finished preparing manifest !\n",
            "Wrote 43 segments for filename 3.wav\n",
            "Finished preparing manifest !\n",
            "Wrote 94 segments for filename 6.wav\n",
            "Finished preparing manifest !\n",
            "Wrote 103 segments for filename 7.wav\n",
            "Finished preparing manifest !\n",
            "Wrote 123 segments for filename 4.wav\n",
            "Finished preparing manifest !\n",
            "Wrote 168 segments for filename 5.wav\n",
            "Finished preparing manifest !\n"
          ]
        }
      ]
    },
    {
      "cell_type": "code",
      "source": [
        "#Вероятности аугументаций\n",
        "probas = [1.0, 1.0, 1.0]\n",
        "\n",
        "for i in range(14):\n",
        "  #пайплайн аугументаций\n",
        "  perturbations = [\n",
        "    perturb.WhiteNoisePerturbation(min_level=-80, max_level=-40),\n",
        "    perturb.GainPerturbation(min_gain_dbfs=0, max_gain_dbfs=30),\n",
        "    #при изменении количества аудио шумов заменить 7 на новое количество\n",
        "    perturb.NoisePerturbation(manifest_path=f'./manifests/noise_{i%7+1}s.json',\n",
        "                              min_snr_db=20, max_snr_db=10, max_gain_db=30.0)]\n",
        "\n",
        "  augmentations = list(zip(probas, perturbations))\n",
        "  audio_augmentations = perturb.AudioAugmentor(augmentations)\n",
        "\n",
        "  for path in glob.glob(\"./raw/*.*\"):\n",
        "    sample_segment = load_audio(path)\n",
        "    audio_augmentations.perturb(sample_segment)\n",
        "    name = path.split('/')[-1][:-4]\n",
        "\n",
        "    sf.write(f\"./drive/MyDrive/SPbU_smart-assistant/auto/{name}_{i}.wav\", \n",
        "             sample_segment.samples, samplerate=sr, subtype='PCM_24')"
      ],
      "metadata": {
        "colab": {
          "base_uri": "https://localhost:8080/"
        },
        "id": "cMm7ko9NjR1U",
        "outputId": "a7d44fb2-5166-4aef-b24c-9e8d1b295303"
      },
      "execution_count": 10,
      "outputs": [
        {
          "output_type": "stream",
          "name": "stdout",
          "text": [
            "[NeMo I 2023-04-01 13:08:33 collections:193] Dataset loaded with 48 files totalling 0.28 hours\n",
            "[NeMo I 2023-04-01 13:08:33 collections:194] 0 files were filtered totalling 0.00 hours\n"
          ]
        },
        {
          "output_type": "stream",
          "name": "stderr",
          "text": [
            "[NeMo W 2023-04-01 13:08:34 nemo_logging:349] /usr/local/lib/python3.9/dist-packages/nemo/collections/asr/parts/preprocessing/segment.py:449: RuntimeWarning: divide by zero encountered in log10\n",
            "      return 10 * np.log10(mean_square)\n",
            "    \n"
          ]
        },
        {
          "output_type": "stream",
          "name": "stdout",
          "text": [
            "[NeMo I 2023-04-01 13:08:34 collections:193] Dataset loaded with 35 files totalling 0.17 hours\n",
            "[NeMo I 2023-04-01 13:08:34 collections:194] 0 files were filtered totalling 0.00 hours\n",
            "[NeMo I 2023-04-01 13:08:36 collections:193] Dataset loaded with 43 files totalling 0.23 hours\n",
            "[NeMo I 2023-04-01 13:08:36 collections:194] 0 files were filtered totalling 0.00 hours\n",
            "[NeMo I 2023-04-01 13:08:37 collections:193] Dataset loaded with 123 files totalling 0.90 hours\n",
            "[NeMo I 2023-04-01 13:08:37 collections:194] 0 files were filtered totalling 0.00 hours\n",
            "[NeMo I 2023-04-01 13:08:38 collections:193] Dataset loaded with 168 files totalling 1.28 hours\n",
            "[NeMo I 2023-04-01 13:08:38 collections:194] 0 files were filtered totalling 0.00 hours\n",
            "[NeMo I 2023-04-01 13:08:39 collections:193] Dataset loaded with 94 files totalling 0.66 hours\n",
            "[NeMo I 2023-04-01 13:08:39 collections:194] 0 files were filtered totalling 0.00 hours\n",
            "[NeMo I 2023-04-01 13:08:40 collections:193] Dataset loaded with 103 files totalling 0.73 hours\n",
            "[NeMo I 2023-04-01 13:08:40 collections:194] 0 files were filtered totalling 0.00 hours\n",
            "[NeMo I 2023-04-01 13:08:41 collections:193] Dataset loaded with 48 files totalling 0.28 hours\n",
            "[NeMo I 2023-04-01 13:08:41 collections:194] 0 files were filtered totalling 0.00 hours\n",
            "[NeMo I 2023-04-01 13:08:43 collections:193] Dataset loaded with 35 files totalling 0.17 hours\n",
            "[NeMo I 2023-04-01 13:08:43 collections:194] 0 files were filtered totalling 0.00 hours\n",
            "[NeMo I 2023-04-01 13:08:44 collections:193] Dataset loaded with 43 files totalling 0.23 hours\n",
            "[NeMo I 2023-04-01 13:08:44 collections:194] 0 files were filtered totalling 0.00 hours\n",
            "[NeMo I 2023-04-01 13:08:45 collections:193] Dataset loaded with 123 files totalling 0.90 hours\n",
            "[NeMo I 2023-04-01 13:08:45 collections:194] 0 files were filtered totalling 0.00 hours\n",
            "[NeMo I 2023-04-01 13:08:46 collections:193] Dataset loaded with 168 files totalling 1.28 hours\n",
            "[NeMo I 2023-04-01 13:08:46 collections:194] 0 files were filtered totalling 0.00 hours\n",
            "[NeMo I 2023-04-01 13:08:47 collections:193] Dataset loaded with 94 files totalling 0.66 hours\n",
            "[NeMo I 2023-04-01 13:08:47 collections:194] 0 files were filtered totalling 0.00 hours\n",
            "[NeMo I 2023-04-01 13:08:48 collections:193] Dataset loaded with 103 files totalling 0.73 hours\n",
            "[NeMo I 2023-04-01 13:08:48 collections:194] 0 files were filtered totalling 0.00 hours\n"
          ]
        }
      ]
    }
  ]
}