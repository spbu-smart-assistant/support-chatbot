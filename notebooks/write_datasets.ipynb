{
  "nbformat": 4,
  "nbformat_minor": 0,
  "metadata": {
    "colab": {
      "provenance": []
    },
    "kernelspec": {
      "name": "python3",
      "display_name": "Python 3"
    },
    "language_info": {
      "name": "python"
    },
    "gpuClass": "standard"
  },
  "cells": [
    {
      "cell_type": "code",
      "execution_count": null,
      "metadata": {
        "id": "xsEKW-8dcMWz"
      },
      "outputs": [],
      "source": [
        "# install requiered dependencies\n",
        "!pip install --upgrade wandb"
      ]
    },
    {
      "cell_type": "code",
      "source": [
        "!git clone https://github.com/spbu-smart-assistant/support-chatbot.git"
      ],
      "metadata": {
        "id": "hmjO9jg_tJFU"
      },
      "execution_count": null,
      "outputs": []
    },
    {
      "cell_type": "code",
      "source": [
        "%cd support-chatbot"
      ],
      "metadata": {
        "colab": {
          "base_uri": "https://localhost:8080/"
        },
        "id": "3-ZhlZD0tNzZ",
        "outputId": "0e344f1d-6ca0-4958-b351-1a4cfb259104"
      },
      "execution_count": null,
      "outputs": [
        {
          "output_type": "stream",
          "name": "stdout",
          "text": [
            "/content/support-chatbot\n"
          ]
        }
      ]
    },
    {
      "cell_type": "code",
      "source": [
        "# import requiered libraries\n",
        "import gdown\n",
        "import wandb\n",
        "import os\n",
        "from src.dataset_utils import commonvoice_to_wav"
      ],
      "metadata": {
        "id": "mZlP-ViIiCkN"
      },
      "execution_count": null,
      "outputs": []
    },
    {
      "cell_type": "code",
      "source": [
        "%cd -"
      ],
      "metadata": {
        "colab": {
          "base_uri": "https://localhost:8080/"
        },
        "id": "3q9fWwC8tbXO",
        "outputId": "0248e859-e0a3-4ce1-c5a3-bedb89263cdf"
      },
      "execution_count": null,
      "outputs": [
        {
          "output_type": "stream",
          "name": "stdout",
          "text": [
            "/content\n"
          ]
        }
      ]
    },
    {
      "cell_type": "code",
      "source": [
        "# create dataset directory and download data to it using google drive\n",
        "data_dir = \"datasets\"\n",
        "if not os.path.exists(data_dir):\n",
        "  os.mkdir(data_dir)\n",
        "VERSION = \"cv-corpus-10.0-delta-2022-07-04\"\n",
        "LANGUAGE = \"ru\"\n",
        "output_path = data_dir\n",
        "!gdown 1WZgxCiRwbUGLn3MBWtPF8njzMPhbO1ii"
      ],
      "metadata": {
        "id": "iwGtc0o4h732"
      },
      "execution_count": null,
      "outputs": []
    },
    {
      "cell_type": "code",
      "source": [
        "# create directory for unpacked data\n",
        "untared_directory = \"untared\"\n",
        "if not os.path.exists(untared_directory):\n",
        "  os.mkdir(f'{untared_directory}')"
      ],
      "metadata": {
        "id": "vRaL7gGtxKd8"
      },
      "execution_count": null,
      "outputs": []
    },
    {
      "cell_type": "code",
      "source": [
        "# unpack data\n",
        "!tar -xzf \"/content/cv-corpus-10.0-delta-2022-07-04-ru.tar.gz\" -C \"/content/untared\""
      ],
      "metadata": {
        "id": "W4g9Ar-5jjM5"
      },
      "execution_count": null,
      "outputs": []
    },
    {
      "cell_type": "code",
      "source": [
        "mcv_mp3_dir = f'{untared_directory}/{VERSION}/{LANGUAGE}/clips'\n",
        "commonvoice_to_wav(mcv_mp3_dir)"
      ],
      "metadata": {
        "id": "7dFzJXrcwj1V"
      },
      "execution_count": null,
      "outputs": []
    },
    {
      "cell_type": "code",
      "source": [
        "from google.colab import drive\n",
        "drive.mount('/content/drive')"
      ],
      "metadata": {
        "colab": {
          "base_uri": "https://localhost:8080/"
        },
        "id": "bYeWqqo1rtKk",
        "outputId": "2344007b-e3d1-4841-d1eb-f09b8537ab54"
      },
      "execution_count": null,
      "outputs": [
        {
          "output_type": "stream",
          "name": "stdout",
          "text": [
            "Mounted at /content/drive\n"
          ]
        }
      ]
    },
    {
      "cell_type": "code",
      "source": [
        "our_data_dir = '/content/drive/MyDrive/SPbU_smart-assistant/auto'\n",
        "for folder in ['all', 'test', 'train']:\n",
        "  commonvoice_to_wav(f'{our_data_dir}/{folder}')"
      ],
      "metadata": {
        "id": "v09ZUCeUylzP"
      },
      "execution_count": null,
      "outputs": []
    },
    {
      "cell_type": "code",
      "source": [
        "# Log in wandb\n",
        "wandb.login()"
      ],
      "metadata": {
        "id": "e8f-ZTOMjvOP",
        "colab": {
          "base_uri": "https://localhost:8080/",
          "height": 121
        },
        "outputId": "9ebb3186-7588-4c16-fb58-9574b41a6741"
      },
      "execution_count": null,
      "outputs": [
        {
          "output_type": "display_data",
          "data": {
            "text/plain": [
              "<IPython.core.display.Javascript object>"
            ],
            "application/javascript": [
              "\n",
              "        window._wandbApiKey = new Promise((resolve, reject) => {\n",
              "            function loadScript(url) {\n",
              "            return new Promise(function(resolve, reject) {\n",
              "                let newScript = document.createElement(\"script\");\n",
              "                newScript.onerror = reject;\n",
              "                newScript.onload = resolve;\n",
              "                document.body.appendChild(newScript);\n",
              "                newScript.src = url;\n",
              "            });\n",
              "            }\n",
              "            loadScript(\"https://cdn.jsdelivr.net/npm/postmate/build/postmate.min.js\").then(() => {\n",
              "            const iframe = document.createElement('iframe')\n",
              "            iframe.style.cssText = \"width:0;height:0;border:none\"\n",
              "            document.body.appendChild(iframe)\n",
              "            const handshake = new Postmate({\n",
              "                container: iframe,\n",
              "                url: 'https://wandb.ai/authorize'\n",
              "            });\n",
              "            const timeout = setTimeout(() => reject(\"Couldn't auto authenticate\"), 5000)\n",
              "            handshake.then(function(child) {\n",
              "                child.on('authorize', data => {\n",
              "                    clearTimeout(timeout)\n",
              "                    resolve(data)\n",
              "                });\n",
              "            });\n",
              "            })\n",
              "        });\n",
              "    "
            ]
          },
          "metadata": {}
        },
        {
          "output_type": "stream",
          "name": "stderr",
          "text": [
            "\u001b[34m\u001b[1mwandb\u001b[0m: Logging into wandb.ai. (Learn how to deploy a W&B server locally: https://wandb.me/wandb-server)\n",
            "\u001b[34m\u001b[1mwandb\u001b[0m: You can find your API key in your browser here: https://wandb.ai/authorize\n",
            "wandb: Paste an API key from your profile and hit enter, or press ctrl+c to quit:"
          ]
        },
        {
          "name": "stdout",
          "output_type": "stream",
          "text": [
            " ··········\n"
          ]
        },
        {
          "output_type": "stream",
          "name": "stderr",
          "text": [
            "\u001b[34m\u001b[1mwandb\u001b[0m: Appending key for api.wandb.ai to your netrc file: /root/.netrc\n"
          ]
        },
        {
          "output_type": "execute_result",
          "data": {
            "text/plain": [
              "True"
            ]
          },
          "metadata": {},
          "execution_count": 13
        }
      ]
    },
    {
      "cell_type": "code",
      "source": [
        "artifact_dir = 'artifacts'\n",
        "if not os.path.exists(artifact_dir):\n",
        "  os.mkdir(artifact_dir)"
      ],
      "metadata": {
        "id": "gPg7MZAGwUx2"
      },
      "execution_count": null,
      "outputs": []
    },
    {
      "cell_type": "code",
      "source": [
        "# Move files to directory \"artifacts\"\n",
        "!mv /content/drive/MyDrive/SPbU_smart-assistant/auto/all_wav_clips /content/artifacts\n",
        "!mv /content/drive/MyDrive/SPbU_smart-assistant/auto/test_wav_clips /content/artifacts\n",
        "!mv /content/drive/MyDrive/SPbU_smart-assistant/auto/train_wav_clips /content/artifacts\n",
        "\n",
        "!mv /content/support-chatbot/data/raw/Transcriptions.tsv /content/artifacts\n",
        "!mv /content/support-chatbot/data/raw/test.tsv /content/artifacts\n",
        "!mv /content/support-chatbot/data/raw/train.tsv /content/artifacts"
      ],
      "metadata": {
        "id": "TedPKPWWwuWd"
      },
      "execution_count": null,
      "outputs": []
    },
    {
      "cell_type": "code",
      "source": [
        "run = wandb.init(project=\"smart_assistant_\", job_type=\"datasets\")       \n",
        "                                                                               \n",
        "artifact1 = wandb.Artifact(name=\"cv-corpus-10.0-delta-2022-07-04_unpacked\", type=\"dataset\")\n",
        "local_path = f'{untared_directory}/{VERSION}/{LANGUAGE}'\n",
        "artifact1.add_dir(local_path=local_path, name='cv-corpus-10.0-delta-2022-07-04')  \n",
        "   \n",
        "run.log_artifact(artifact1)\n",
        "\n",
        "artifact2 = wandb.Artifact(name=\"our_dataset\", type=\"dataset\")\n",
        "local_path = artifact_dir\n",
        "artifact2.add_dir(local_path=local_path, name='our_dataset')  \n",
        "run.log_artifact(artifact2) \n"
      ],
      "metadata": {
        "id": "jrPTchC4j_JJ"
      },
      "execution_count": null,
      "outputs": []
    }
  ]
}