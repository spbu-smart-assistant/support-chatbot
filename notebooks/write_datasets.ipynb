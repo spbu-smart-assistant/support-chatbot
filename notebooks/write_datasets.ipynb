{
  "nbformat": 4,
  "nbformat_minor": 0,
  "metadata": {
    "colab": {
      "provenance": []
    },
    "kernelspec": {
      "name": "python3",
      "display_name": "Python 3"
    },
    "language_info": {
      "name": "python"
    },
    "gpuClass": "standard"
  },
  "cells": [
    {
      "cell_type": "code",
      "execution_count": null,
      "metadata": {
        "id": "xsEKW-8dcMWz"
      },
      "outputs": [],
      "source": [
        "# install requiered dependencies\n",
        "!pip install --upgrade wandb"
      ]
    },
    {
      "cell_type": "code",
      "source": [
        "!git clone https://github.com/spbu-smart-assistant/support-chatbot.git"
      ],
      "metadata": {
        "id": "hmjO9jg_tJFU"
      },
      "execution_count": null,
      "outputs": []
    },
    {
      "cell_type": "code",
      "source": [
        "%cd support-chatbot"
      ],
      "metadata": {
        "colab": {
          "base_uri": "https://localhost:8080/"
        },
        "id": "3-ZhlZD0tNzZ",
        "outputId": "c66bb66d-b2c1-49fb-f21c-8fd261275168"
      },
      "execution_count": null,
      "outputs": [
        {
          "output_type": "stream",
          "name": "stdout",
          "text": [
            "/content/support-chatbot\n"
          ]
        }
      ]
    },
    {
      "cell_type": "code",
      "source": [
        "# import requiered libraries\n",
        "import gdown\n",
        "import wandb\n",
        "import os\n",
        "from src.dataset_utils import commonvoice_to_wav"
      ],
      "metadata": {
        "id": "mZlP-ViIiCkN"
      },
      "execution_count": null,
      "outputs": []
    },
    {
      "cell_type": "code",
      "source": [
        "%cd -"
      ],
      "metadata": {
        "colab": {
          "base_uri": "https://localhost:8080/"
        },
        "id": "3q9fWwC8tbXO",
        "outputId": "324fbac2-3ca8-49db-aad9-543a25121b7f"
      },
      "execution_count": null,
      "outputs": [
        {
          "output_type": "stream",
          "name": "stdout",
          "text": [
            "/content\n"
          ]
        }
      ]
    },
    {
      "cell_type": "code",
      "source": [
        "# create dataset directory and download data to it using google drive\n",
        "data_dir = \"datasets\"\n",
        "if not os.path.exists(data_dir):\n",
        "  os.mkdir(data_dir)\n",
        "VERSION = \"cv-corpus-10.0-delta-2022-07-04\"\n",
        "LANGUAGE = \"ru\"\n",
        "output_path = data_dir\n",
        "!gdown 1WZgxCiRwbUGLn3MBWtPF8njzMPhbO1ii"
      ],
      "metadata": {
        "id": "iwGtc0o4h732"
      },
      "execution_count": null,
      "outputs": []
    },
    {
      "cell_type": "code",
      "source": [
        "# create directory for unpacked data\n",
        "untared_directory = \"untared\"\n",
        "if not os.path.exists(untared_directory):\n",
        "  os.mkdir(f'{untared_directory}')"
      ],
      "metadata": {
        "id": "vRaL7gGtxKd8"
      },
      "execution_count": null,
      "outputs": []
    },
    {
      "cell_type": "code",
      "source": [
        "# unpack data\n",
        "!tar -xzf \"/content/cv-corpus-10.0-delta-2022-07-04-ru.tar.gz\" -C \"/content/untared\""
      ],
      "metadata": {
        "id": "W4g9Ar-5jjM5"
      },
      "execution_count": null,
      "outputs": []
    },
    {
      "cell_type": "code",
      "source": [
        "mcv_mp3_dir = f'{untared_directory}/{VERSION}/{LANGUAGE}/clips'\n",
        "commonvoice_to_wav(mcv_mp3_dir)"
      ],
      "metadata": {
        "id": "7dFzJXrcwj1V"
      },
      "execution_count": null,
      "outputs": []
    },
    {
      "cell_type": "code",
      "source": [
        "from google.colab import drive\n",
        "drive.mount('/content/drive')"
      ],
      "metadata": {
        "colab": {
          "base_uri": "https://localhost:8080/"
        },
        "id": "bYeWqqo1rtKk",
        "outputId": "360195f5-df35-4318-d9f2-0fbc0574a531"
      },
      "execution_count": null,
      "outputs": [
        {
          "output_type": "stream",
          "name": "stdout",
          "text": [
            "Mounted at /content/drive\n"
          ]
        }
      ]
    },
    {
      "cell_type": "code",
      "source": [
        "our_data_dir = '/content/drive/MyDrive/SPbU_smart-assistant'\n",
        "commonvoice_to_wav(f'{our_data_dir}/auto')"
      ],
      "metadata": {
        "id": "v09ZUCeUylzP"
      },
      "execution_count": null,
      "outputs": []
    },
    {
      "cell_type": "code",
      "source": [
        "# Log in wandb\n",
        "wandb.login()"
      ],
      "metadata": {
        "id": "e8f-ZTOMjvOP"
      },
      "execution_count": null,
      "outputs": []
    },
    {
      "cell_type": "code",
      "source": [
        "artifact_dir = 'artifact2'\n",
        "if not os.path.exists(artifact_dir):\n",
        "  os.mkdir(artifact_dir)"
      ],
      "metadata": {
        "id": "gPg7MZAGwUx2"
      },
      "execution_count": null,
      "outputs": []
    },
    {
      "cell_type": "code",
      "source": [
        "# Move files to directory \"artifact2\"\n",
        "!mv /content/drive/MyDrive/SPbU_smart-assistant/wav_clips /content/artifact2\n",
        "!mv /content/support-chatbot/data/raw/Transcriptions.tsv /content/artifact2"
      ],
      "metadata": {
        "id": "TedPKPWWwuWd"
      },
      "execution_count": null,
      "outputs": []
    },
    {
      "cell_type": "code",
      "source": [
        "run = wandb.init(project=\"smart_assistant_test2\", job_type=\"datasets\")       \n",
        "                                                                               \n",
        "artifact1 = wandb.Artifact(name=\"cv-corpus-10.0-delta-2022-07-04_unpacked\", type=\"dataset\")\n",
        "local_path = f'{untared_directory}/{VERSION}/{LANGUAGE}'\n",
        "artifact1.add_dir(local_path=local_path, name='cv-corpus-10.0-delta-2022-07-04')  \n",
        "   \n",
        "run.log_artifact(artifact1)\n",
        "\n",
        "artifact2 = wandb.Artifact(name=\"our_dataset\", type=\"dataset\")\n",
        "local_path = artifact_dir\n",
        "artifact2.add_dir(local_path=local_path, name='our_dataset')  \n",
        "run.log_artifact(artifact2) \n"
      ],
      "metadata": {
        "id": "jrPTchC4j_JJ"
      },
      "execution_count": null,
      "outputs": []
    }
  ]
}