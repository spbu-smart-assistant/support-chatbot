{
  "nbformat": 4,
  "nbformat_minor": 0,
  "metadata": {
    "colab": {
      "provenance": [],
      "gpuType": "T4"
    },
    "kernelspec": {
      "name": "python3",
      "display_name": "Python 3"
    },
    "language_info": {
      "name": "python"
    },
    "gpuClass": "standard",
    "accelerator": "GPU",
    "widgets": {
      "application/vnd.jupyter.widget-state+json": {
        "6da3baea88604670b5ccf0e136d867aa": {
          "model_module": "@jupyter-widgets/controls",
          "model_name": "HBoxModel",
          "model_module_version": "1.5.0",
          "state": {
            "_dom_classes": [],
            "_model_module": "@jupyter-widgets/controls",
            "_model_module_version": "1.5.0",
            "_model_name": "HBoxModel",
            "_view_count": null,
            "_view_module": "@jupyter-widgets/controls",
            "_view_module_version": "1.5.0",
            "_view_name": "HBoxView",
            "box_style": "",
            "children": [
              "IPY_MODEL_340baa2f575e4214862c87ab6e327f15",
              "IPY_MODEL_2fd439fdcfed4b1990f430a593f53730",
              "IPY_MODEL_9f38bb8b8e9546248df0760a38b52200"
            ],
            "layout": "IPY_MODEL_6d6ecd6d34f94f5db26c545c5f27b7dc"
          }
        },
        "340baa2f575e4214862c87ab6e327f15": {
          "model_module": "@jupyter-widgets/controls",
          "model_name": "HTMLModel",
          "model_module_version": "1.5.0",
          "state": {
            "_dom_classes": [],
            "_model_module": "@jupyter-widgets/controls",
            "_model_module_version": "1.5.0",
            "_model_name": "HTMLModel",
            "_view_count": null,
            "_view_module": "@jupyter-widgets/controls",
            "_view_module_version": "1.5.0",
            "_view_name": "HTMLView",
            "description": "",
            "description_tooltip": null,
            "layout": "IPY_MODEL_ba8e076c00bb4f65b6dfb95dcc705427",
            "placeholder": "​",
            "style": "IPY_MODEL_b9a4a68c82874c1c807fe0d86065c093",
            "value": "Map: 100%"
          }
        },
        "2fd439fdcfed4b1990f430a593f53730": {
          "model_module": "@jupyter-widgets/controls",
          "model_name": "FloatProgressModel",
          "model_module_version": "1.5.0",
          "state": {
            "_dom_classes": [],
            "_model_module": "@jupyter-widgets/controls",
            "_model_module_version": "1.5.0",
            "_model_name": "FloatProgressModel",
            "_view_count": null,
            "_view_module": "@jupyter-widgets/controls",
            "_view_module_version": "1.5.0",
            "_view_name": "ProgressView",
            "bar_style": "",
            "description": "",
            "description_tooltip": null,
            "layout": "IPY_MODEL_cafd3f648d3d4efd898480941a6c3e13",
            "max": 54,
            "min": 0,
            "orientation": "horizontal",
            "style": "IPY_MODEL_e784c86cf5344c82b9e5986ab1d483db",
            "value": 54
          }
        },
        "9f38bb8b8e9546248df0760a38b52200": {
          "model_module": "@jupyter-widgets/controls",
          "model_name": "HTMLModel",
          "model_module_version": "1.5.0",
          "state": {
            "_dom_classes": [],
            "_model_module": "@jupyter-widgets/controls",
            "_model_module_version": "1.5.0",
            "_model_name": "HTMLModel",
            "_view_count": null,
            "_view_module": "@jupyter-widgets/controls",
            "_view_module_version": "1.5.0",
            "_view_name": "HTMLView",
            "description": "",
            "description_tooltip": null,
            "layout": "IPY_MODEL_15668b4f41fb406582ec6992449aa01f",
            "placeholder": "​",
            "style": "IPY_MODEL_4b10b9e1201d4c108e12b96611c9e854",
            "value": " 54/54 [00:00&lt;00:00, 182.01 examples/s]"
          }
        },
        "6d6ecd6d34f94f5db26c545c5f27b7dc": {
          "model_module": "@jupyter-widgets/base",
          "model_name": "LayoutModel",
          "model_module_version": "1.2.0",
          "state": {
            "_model_module": "@jupyter-widgets/base",
            "_model_module_version": "1.2.0",
            "_model_name": "LayoutModel",
            "_view_count": null,
            "_view_module": "@jupyter-widgets/base",
            "_view_module_version": "1.2.0",
            "_view_name": "LayoutView",
            "align_content": null,
            "align_items": null,
            "align_self": null,
            "border": null,
            "bottom": null,
            "display": null,
            "flex": null,
            "flex_flow": null,
            "grid_area": null,
            "grid_auto_columns": null,
            "grid_auto_flow": null,
            "grid_auto_rows": null,
            "grid_column": null,
            "grid_gap": null,
            "grid_row": null,
            "grid_template_areas": null,
            "grid_template_columns": null,
            "grid_template_rows": null,
            "height": null,
            "justify_content": null,
            "justify_items": null,
            "left": null,
            "margin": null,
            "max_height": null,
            "max_width": null,
            "min_height": null,
            "min_width": null,
            "object_fit": null,
            "object_position": null,
            "order": null,
            "overflow": null,
            "overflow_x": null,
            "overflow_y": null,
            "padding": null,
            "right": null,
            "top": null,
            "visibility": "hidden",
            "width": null
          }
        },
        "ba8e076c00bb4f65b6dfb95dcc705427": {
          "model_module": "@jupyter-widgets/base",
          "model_name": "LayoutModel",
          "model_module_version": "1.2.0",
          "state": {
            "_model_module": "@jupyter-widgets/base",
            "_model_module_version": "1.2.0",
            "_model_name": "LayoutModel",
            "_view_count": null,
            "_view_module": "@jupyter-widgets/base",
            "_view_module_version": "1.2.0",
            "_view_name": "LayoutView",
            "align_content": null,
            "align_items": null,
            "align_self": null,
            "border": null,
            "bottom": null,
            "display": null,
            "flex": null,
            "flex_flow": null,
            "grid_area": null,
            "grid_auto_columns": null,
            "grid_auto_flow": null,
            "grid_auto_rows": null,
            "grid_column": null,
            "grid_gap": null,
            "grid_row": null,
            "grid_template_areas": null,
            "grid_template_columns": null,
            "grid_template_rows": null,
            "height": null,
            "justify_content": null,
            "justify_items": null,
            "left": null,
            "margin": null,
            "max_height": null,
            "max_width": null,
            "min_height": null,
            "min_width": null,
            "object_fit": null,
            "object_position": null,
            "order": null,
            "overflow": null,
            "overflow_x": null,
            "overflow_y": null,
            "padding": null,
            "right": null,
            "top": null,
            "visibility": null,
            "width": null
          }
        },
        "b9a4a68c82874c1c807fe0d86065c093": {
          "model_module": "@jupyter-widgets/controls",
          "model_name": "DescriptionStyleModel",
          "model_module_version": "1.5.0",
          "state": {
            "_model_module": "@jupyter-widgets/controls",
            "_model_module_version": "1.5.0",
            "_model_name": "DescriptionStyleModel",
            "_view_count": null,
            "_view_module": "@jupyter-widgets/base",
            "_view_module_version": "1.2.0",
            "_view_name": "StyleView",
            "description_width": ""
          }
        },
        "cafd3f648d3d4efd898480941a6c3e13": {
          "model_module": "@jupyter-widgets/base",
          "model_name": "LayoutModel",
          "model_module_version": "1.2.0",
          "state": {
            "_model_module": "@jupyter-widgets/base",
            "_model_module_version": "1.2.0",
            "_model_name": "LayoutModel",
            "_view_count": null,
            "_view_module": "@jupyter-widgets/base",
            "_view_module_version": "1.2.0",
            "_view_name": "LayoutView",
            "align_content": null,
            "align_items": null,
            "align_self": null,
            "border": null,
            "bottom": null,
            "display": null,
            "flex": null,
            "flex_flow": null,
            "grid_area": null,
            "grid_auto_columns": null,
            "grid_auto_flow": null,
            "grid_auto_rows": null,
            "grid_column": null,
            "grid_gap": null,
            "grid_row": null,
            "grid_template_areas": null,
            "grid_template_columns": null,
            "grid_template_rows": null,
            "height": null,
            "justify_content": null,
            "justify_items": null,
            "left": null,
            "margin": null,
            "max_height": null,
            "max_width": null,
            "min_height": null,
            "min_width": null,
            "object_fit": null,
            "object_position": null,
            "order": null,
            "overflow": null,
            "overflow_x": null,
            "overflow_y": null,
            "padding": null,
            "right": null,
            "top": null,
            "visibility": null,
            "width": null
          }
        },
        "e784c86cf5344c82b9e5986ab1d483db": {
          "model_module": "@jupyter-widgets/controls",
          "model_name": "ProgressStyleModel",
          "model_module_version": "1.5.0",
          "state": {
            "_model_module": "@jupyter-widgets/controls",
            "_model_module_version": "1.5.0",
            "_model_name": "ProgressStyleModel",
            "_view_count": null,
            "_view_module": "@jupyter-widgets/base",
            "_view_module_version": "1.2.0",
            "_view_name": "StyleView",
            "bar_color": null,
            "description_width": ""
          }
        },
        "15668b4f41fb406582ec6992449aa01f": {
          "model_module": "@jupyter-widgets/base",
          "model_name": "LayoutModel",
          "model_module_version": "1.2.0",
          "state": {
            "_model_module": "@jupyter-widgets/base",
            "_model_module_version": "1.2.0",
            "_model_name": "LayoutModel",
            "_view_count": null,
            "_view_module": "@jupyter-widgets/base",
            "_view_module_version": "1.2.0",
            "_view_name": "LayoutView",
            "align_content": null,
            "align_items": null,
            "align_self": null,
            "border": null,
            "bottom": null,
            "display": null,
            "flex": null,
            "flex_flow": null,
            "grid_area": null,
            "grid_auto_columns": null,
            "grid_auto_flow": null,
            "grid_auto_rows": null,
            "grid_column": null,
            "grid_gap": null,
            "grid_row": null,
            "grid_template_areas": null,
            "grid_template_columns": null,
            "grid_template_rows": null,
            "height": null,
            "justify_content": null,
            "justify_items": null,
            "left": null,
            "margin": null,
            "max_height": null,
            "max_width": null,
            "min_height": null,
            "min_width": null,
            "object_fit": null,
            "object_position": null,
            "order": null,
            "overflow": null,
            "overflow_x": null,
            "overflow_y": null,
            "padding": null,
            "right": null,
            "top": null,
            "visibility": null,
            "width": null
          }
        },
        "4b10b9e1201d4c108e12b96611c9e854": {
          "model_module": "@jupyter-widgets/controls",
          "model_name": "DescriptionStyleModel",
          "model_module_version": "1.5.0",
          "state": {
            "_model_module": "@jupyter-widgets/controls",
            "_model_module_version": "1.5.0",
            "_model_name": "DescriptionStyleModel",
            "_view_count": null,
            "_view_module": "@jupyter-widgets/base",
            "_view_module_version": "1.2.0",
            "_view_name": "StyleView",
            "description_width": ""
          }
        },
        "7d50f6808d574e1f960db7caeebb4307": {
          "model_module": "@jupyter-widgets/controls",
          "model_name": "HBoxModel",
          "model_module_version": "1.5.0",
          "state": {
            "_dom_classes": [],
            "_model_module": "@jupyter-widgets/controls",
            "_model_module_version": "1.5.0",
            "_model_name": "HBoxModel",
            "_view_count": null,
            "_view_module": "@jupyter-widgets/controls",
            "_view_module_version": "1.5.0",
            "_view_name": "HBoxView",
            "box_style": "",
            "children": [
              "IPY_MODEL_d8ba136599b24c64b3e9d3928122057b",
              "IPY_MODEL_446fde0377ca4e02ba80fdd9b5545203",
              "IPY_MODEL_3781e0f1f65e4e90aff64a857dac07ae"
            ],
            "layout": "IPY_MODEL_28a2d1c0bc34496fa8023205dbc1faa8"
          }
        },
        "d8ba136599b24c64b3e9d3928122057b": {
          "model_module": "@jupyter-widgets/controls",
          "model_name": "HTMLModel",
          "model_module_version": "1.5.0",
          "state": {
            "_dom_classes": [],
            "_model_module": "@jupyter-widgets/controls",
            "_model_module_version": "1.5.0",
            "_model_name": "HTMLModel",
            "_view_count": null,
            "_view_module": "@jupyter-widgets/controls",
            "_view_module_version": "1.5.0",
            "_view_name": "HTMLView",
            "description": "",
            "description_tooltip": null,
            "layout": "IPY_MODEL_9f1aa75a3cc64efcbd3c474e56702bbe",
            "placeholder": "​",
            "style": "IPY_MODEL_f45ed03d8fa148fa9c56ac526f7dc10e",
            "value": "Map:   0%"
          }
        },
        "446fde0377ca4e02ba80fdd9b5545203": {
          "model_module": "@jupyter-widgets/controls",
          "model_name": "FloatProgressModel",
          "model_module_version": "1.5.0",
          "state": {
            "_dom_classes": [],
            "_model_module": "@jupyter-widgets/controls",
            "_model_module_version": "1.5.0",
            "_model_name": "FloatProgressModel",
            "_view_count": null,
            "_view_module": "@jupyter-widgets/controls",
            "_view_module_version": "1.5.0",
            "_view_name": "ProgressView",
            "bar_style": "",
            "description": "",
            "description_tooltip": null,
            "layout": "IPY_MODEL_9a99a2f3163a48b0adf975b5a8efe759",
            "max": 8,
            "min": 0,
            "orientation": "horizontal",
            "style": "IPY_MODEL_22f8d10c84814b4f8b266f165c2d4c9b",
            "value": 8
          }
        },
        "3781e0f1f65e4e90aff64a857dac07ae": {
          "model_module": "@jupyter-widgets/controls",
          "model_name": "HTMLModel",
          "model_module_version": "1.5.0",
          "state": {
            "_dom_classes": [],
            "_model_module": "@jupyter-widgets/controls",
            "_model_module_version": "1.5.0",
            "_model_name": "HTMLModel",
            "_view_count": null,
            "_view_module": "@jupyter-widgets/controls",
            "_view_module_version": "1.5.0",
            "_view_name": "HTMLView",
            "description": "",
            "description_tooltip": null,
            "layout": "IPY_MODEL_ae2fd832555346a7a04a3a981cb8c8a2",
            "placeholder": "​",
            "style": "IPY_MODEL_97853e9540024e879ecd1e889fa640dd",
            "value": " 0/8 [00:00&lt;?, ? examples/s]"
          }
        },
        "28a2d1c0bc34496fa8023205dbc1faa8": {
          "model_module": "@jupyter-widgets/base",
          "model_name": "LayoutModel",
          "model_module_version": "1.2.0",
          "state": {
            "_model_module": "@jupyter-widgets/base",
            "_model_module_version": "1.2.0",
            "_model_name": "LayoutModel",
            "_view_count": null,
            "_view_module": "@jupyter-widgets/base",
            "_view_module_version": "1.2.0",
            "_view_name": "LayoutView",
            "align_content": null,
            "align_items": null,
            "align_self": null,
            "border": null,
            "bottom": null,
            "display": null,
            "flex": null,
            "flex_flow": null,
            "grid_area": null,
            "grid_auto_columns": null,
            "grid_auto_flow": null,
            "grid_auto_rows": null,
            "grid_column": null,
            "grid_gap": null,
            "grid_row": null,
            "grid_template_areas": null,
            "grid_template_columns": null,
            "grid_template_rows": null,
            "height": null,
            "justify_content": null,
            "justify_items": null,
            "left": null,
            "margin": null,
            "max_height": null,
            "max_width": null,
            "min_height": null,
            "min_width": null,
            "object_fit": null,
            "object_position": null,
            "order": null,
            "overflow": null,
            "overflow_x": null,
            "overflow_y": null,
            "padding": null,
            "right": null,
            "top": null,
            "visibility": "hidden",
            "width": null
          }
        },
        "9f1aa75a3cc64efcbd3c474e56702bbe": {
          "model_module": "@jupyter-widgets/base",
          "model_name": "LayoutModel",
          "model_module_version": "1.2.0",
          "state": {
            "_model_module": "@jupyter-widgets/base",
            "_model_module_version": "1.2.0",
            "_model_name": "LayoutModel",
            "_view_count": null,
            "_view_module": "@jupyter-widgets/base",
            "_view_module_version": "1.2.0",
            "_view_name": "LayoutView",
            "align_content": null,
            "align_items": null,
            "align_self": null,
            "border": null,
            "bottom": null,
            "display": null,
            "flex": null,
            "flex_flow": null,
            "grid_area": null,
            "grid_auto_columns": null,
            "grid_auto_flow": null,
            "grid_auto_rows": null,
            "grid_column": null,
            "grid_gap": null,
            "grid_row": null,
            "grid_template_areas": null,
            "grid_template_columns": null,
            "grid_template_rows": null,
            "height": null,
            "justify_content": null,
            "justify_items": null,
            "left": null,
            "margin": null,
            "max_height": null,
            "max_width": null,
            "min_height": null,
            "min_width": null,
            "object_fit": null,
            "object_position": null,
            "order": null,
            "overflow": null,
            "overflow_x": null,
            "overflow_y": null,
            "padding": null,
            "right": null,
            "top": null,
            "visibility": null,
            "width": null
          }
        },
        "f45ed03d8fa148fa9c56ac526f7dc10e": {
          "model_module": "@jupyter-widgets/controls",
          "model_name": "DescriptionStyleModel",
          "model_module_version": "1.5.0",
          "state": {
            "_model_module": "@jupyter-widgets/controls",
            "_model_module_version": "1.5.0",
            "_model_name": "DescriptionStyleModel",
            "_view_count": null,
            "_view_module": "@jupyter-widgets/base",
            "_view_module_version": "1.2.0",
            "_view_name": "StyleView",
            "description_width": ""
          }
        },
        "9a99a2f3163a48b0adf975b5a8efe759": {
          "model_module": "@jupyter-widgets/base",
          "model_name": "LayoutModel",
          "model_module_version": "1.2.0",
          "state": {
            "_model_module": "@jupyter-widgets/base",
            "_model_module_version": "1.2.0",
            "_model_name": "LayoutModel",
            "_view_count": null,
            "_view_module": "@jupyter-widgets/base",
            "_view_module_version": "1.2.0",
            "_view_name": "LayoutView",
            "align_content": null,
            "align_items": null,
            "align_self": null,
            "border": null,
            "bottom": null,
            "display": null,
            "flex": null,
            "flex_flow": null,
            "grid_area": null,
            "grid_auto_columns": null,
            "grid_auto_flow": null,
            "grid_auto_rows": null,
            "grid_column": null,
            "grid_gap": null,
            "grid_row": null,
            "grid_template_areas": null,
            "grid_template_columns": null,
            "grid_template_rows": null,
            "height": null,
            "justify_content": null,
            "justify_items": null,
            "left": null,
            "margin": null,
            "max_height": null,
            "max_width": null,
            "min_height": null,
            "min_width": null,
            "object_fit": null,
            "object_position": null,
            "order": null,
            "overflow": null,
            "overflow_x": null,
            "overflow_y": null,
            "padding": null,
            "right": null,
            "top": null,
            "visibility": null,
            "width": null
          }
        },
        "22f8d10c84814b4f8b266f165c2d4c9b": {
          "model_module": "@jupyter-widgets/controls",
          "model_name": "ProgressStyleModel",
          "model_module_version": "1.5.0",
          "state": {
            "_model_module": "@jupyter-widgets/controls",
            "_model_module_version": "1.5.0",
            "_model_name": "ProgressStyleModel",
            "_view_count": null,
            "_view_module": "@jupyter-widgets/base",
            "_view_module_version": "1.2.0",
            "_view_name": "StyleView",
            "bar_color": null,
            "description_width": ""
          }
        },
        "ae2fd832555346a7a04a3a981cb8c8a2": {
          "model_module": "@jupyter-widgets/base",
          "model_name": "LayoutModel",
          "model_module_version": "1.2.0",
          "state": {
            "_model_module": "@jupyter-widgets/base",
            "_model_module_version": "1.2.0",
            "_model_name": "LayoutModel",
            "_view_count": null,
            "_view_module": "@jupyter-widgets/base",
            "_view_module_version": "1.2.0",
            "_view_name": "LayoutView",
            "align_content": null,
            "align_items": null,
            "align_self": null,
            "border": null,
            "bottom": null,
            "display": null,
            "flex": null,
            "flex_flow": null,
            "grid_area": null,
            "grid_auto_columns": null,
            "grid_auto_flow": null,
            "grid_auto_rows": null,
            "grid_column": null,
            "grid_gap": null,
            "grid_row": null,
            "grid_template_areas": null,
            "grid_template_columns": null,
            "grid_template_rows": null,
            "height": null,
            "justify_content": null,
            "justify_items": null,
            "left": null,
            "margin": null,
            "max_height": null,
            "max_width": null,
            "min_height": null,
            "min_width": null,
            "object_fit": null,
            "object_position": null,
            "order": null,
            "overflow": null,
            "overflow_x": null,
            "overflow_y": null,
            "padding": null,
            "right": null,
            "top": null,
            "visibility": null,
            "width": null
          }
        },
        "97853e9540024e879ecd1e889fa640dd": {
          "model_module": "@jupyter-widgets/controls",
          "model_name": "DescriptionStyleModel",
          "model_module_version": "1.5.0",
          "state": {
            "_model_module": "@jupyter-widgets/controls",
            "_model_module_version": "1.5.0",
            "_model_name": "DescriptionStyleModel",
            "_view_count": null,
            "_view_module": "@jupyter-widgets/base",
            "_view_module_version": "1.2.0",
            "_view_name": "StyleView",
            "description_width": ""
          }
        }
      }
    }
  },
  "cells": [
    {
      "cell_type": "code",
      "execution_count": null,
      "metadata": {
        "id": "x2xkV0IgILK3"
      },
      "outputs": [],
      "source": [
        "!pip install --upgrade accelerate"
      ]
    },
    {
      "cell_type": "code",
      "source": [
        "!pip install --no-cache-dir -q transformers sentencepiece"
      ],
      "metadata": {
        "id": "qojOMZ2hIV_k"
      },
      "execution_count": null,
      "outputs": []
    },
    {
      "cell_type": "code",
      "source": [
        "import torch\n",
        "seed = 22\n",
        "torch.manual_seed(seed)\n",
        "torch.backends.cudnn.deterministic = True\n",
        "if torch.cuda.is_available():\n",
        "    torch.cuda.manual_seed_all(seed)"
      ],
      "metadata": {
        "id": "DiuUhQC9IY70"
      },
      "execution_count": 2,
      "outputs": []
    },
    {
      "cell_type": "code",
      "source": [
        "from transformers import T5ForConditionalGeneration, T5Tokenizer, T5Config\n",
        "MODEL_NAME = 'bragovo/qqq'\n",
        "tokenizer = T5Tokenizer.from_pretrained(MODEL_NAME)\n",
        "\n",
        "def summarize(\n",
        "    text, n_words=None, compression=None,\n",
        "    max_length=1000, num_beams=3, do_sample=False, repetition_penalty=10.0, \n",
        "    **kwargs\n",
        "):\n",
        "    \"\"\"\n",
        "    Summarize the text\n",
        "    The following parameters are mutually exclusive:\n",
        "    - n_words (int) is an approximate number of words to generate.\n",
        "    - compression (float) is an approximate length ratio of summary and original text.\n",
        "    \"\"\"\n",
        "    if n_words:\n",
        "        text = '[{}] '.format(n_words) + text\n",
        "    elif compression:\n",
        "        text = '[{0:.1g}] '.format(compression) + text\n",
        "    x = tokenizer(text, return_tensors='pt', padding=True).to(model.device)\n",
        "    with torch.inference_mode():\n",
        "        out = model.generate(\n",
        "            **x, \n",
        "            max_length=max_length, num_beams=num_beams, \n",
        "            do_sample=do_sample, repetition_penalty=repetition_penalty, \n",
        "            **kwargs\n",
        "        )\n",
        "    return tokenizer.decode(out[0], skip_special_tokens=True)"
      ],
      "metadata": {
        "id": "GBQNhujnInPF"
      },
      "execution_count": null,
      "outputs": []
    },
    {
      "cell_type": "code",
      "source": [
        "import nltk\n",
        "nltk.download('popular')"
      ],
      "metadata": {
        "id": "834dzDlVIpDf"
      },
      "execution_count": null,
      "outputs": []
    },
    {
      "cell_type": "code",
      "source": [
        "import random\n",
        "\n",
        "def apply_word_dropout(texts, dropout_prob):\n",
        "    \"\"\"\n",
        "    Apply word dropout by replacing on the  token\n",
        "\n",
        "    Params:\n",
        "    -------\n",
        "    texts (list): list of tokenized texts\n",
        "    dropout_prob (float): probability of replacing word on  token\n",
        "\n",
        "    Return:\n",
        "    -------\n",
        "    processed_texts (list) - list of tokenised and preprocessed texts\n",
        "    \"\"\"\n",
        "\n",
        "    processed_texts = []\n",
        "    for text in texts:\n",
        "        result = []\n",
        "        tokens = nltk.word_tokenize(text)\n",
        "        for token in tokens:\n",
        "            if random.random() < dropout_prob:\n",
        "                result.append(\"<unk>\")\n",
        "            else:\n",
        "                result.append(token)\n",
        "        processed_texts.append(' '.join(result))\n",
        "    return processed_texts"
      ],
      "metadata": {
        "id": "Plrn9592IrJG"
      },
      "execution_count": 5,
      "outputs": []
    },
    {
      "cell_type": "code",
      "source": [
        "!git clone https://github.com/spbu-smart-assistant/support-chatbot.git"
      ],
      "metadata": {
        "id": "59Nvx-W8JHgs"
      },
      "execution_count": null,
      "outputs": []
    },
    {
      "cell_type": "code",
      "source": [
        "!pip install -q datasets"
      ],
      "metadata": {
        "colab": {
          "base_uri": "https://localhost:8080/"
        },
        "id": "Fwk1IyZWIsy0",
        "outputId": "0b0af04e-6acd-47f2-e727-0f07a5449268"
      },
      "execution_count": 7,
      "outputs": [
        {
          "output_type": "stream",
          "name": "stdout",
          "text": [
            "\u001b[2K     \u001b[90m━━━━━━━━━━━━━━━━━━━━━━━━━━━━━━━━━━━━━━━\u001b[0m \u001b[32m474.6/474.6 kB\u001b[0m \u001b[31m9.1 MB/s\u001b[0m eta \u001b[36m0:00:00\u001b[0m\n",
            "\u001b[2K     \u001b[90m━━━━━━━━━━━━━━━━━━━━━━━━━━━━━━━━━━━━━━\u001b[0m \u001b[32m110.5/110.5 kB\u001b[0m \u001b[31m12.6 MB/s\u001b[0m eta \u001b[36m0:00:00\u001b[0m\n",
            "\u001b[2K     \u001b[90m━━━━━━━━━━━━━━━━━━━━━━━━━━━━━━━━━━━━━━\u001b[0m \u001b[32m212.5/212.5 kB\u001b[0m \u001b[31m20.6 MB/s\u001b[0m eta \u001b[36m0:00:00\u001b[0m\n",
            "\u001b[2K     \u001b[90m━━━━━━━━━━━━━━━━━━━━━━━━━━━━━━━━━━━━━━\u001b[0m \u001b[32m134.3/134.3 kB\u001b[0m \u001b[31m15.8 MB/s\u001b[0m eta \u001b[36m0:00:00\u001b[0m\n",
            "\u001b[2K     \u001b[90m━━━━━━━━━━━━━━━━━━━━━━━━━━━━━━━━━━━━━━━━\u001b[0m \u001b[32m1.0/1.0 MB\u001b[0m \u001b[31m18.3 MB/s\u001b[0m eta \u001b[36m0:00:00\u001b[0m\n",
            "\u001b[2K     \u001b[90m━━━━━━━━━━━━━━━━━━━━━━━━━━━━━━━━━━━━━━\u001b[0m \u001b[32m114.5/114.5 kB\u001b[0m \u001b[31m10.6 MB/s\u001b[0m eta \u001b[36m0:00:00\u001b[0m\n",
            "\u001b[2K     \u001b[90m━━━━━━━━━━━━━━━━━━━━━━━━━━━━━━━━━━━━━━\u001b[0m \u001b[32m268.8/268.8 kB\u001b[0m \u001b[31m15.8 MB/s\u001b[0m eta \u001b[36m0:00:00\u001b[0m\n",
            "\u001b[2K     \u001b[90m━━━━━━━━━━━━━━━━━━━━━━━━━━━━━━━━━━━━━━\u001b[0m \u001b[32m149.6/149.6 kB\u001b[0m \u001b[31m17.3 MB/s\u001b[0m eta \u001b[36m0:00:00\u001b[0m\n",
            "\u001b[?25h"
          ]
        }
      ]
    },
    {
      "cell_type": "code",
      "source": [
        "from datasets import load_dataset\n",
        "our_dataset = load_dataset('json', data_files={'train': '/content/support-chatbot/data/raw/processed_train.json', \n",
        "                                               'test': '/content/support-chatbot/data/raw/processed_test.json'})"
      ],
      "metadata": {
        "id": "vqPh2UhTIuuk"
      },
      "execution_count": null,
      "outputs": []
    },
    {
      "cell_type": "code",
      "source": [
        "our_dataset"
      ],
      "metadata": {
        "colab": {
          "base_uri": "https://localhost:8080/"
        },
        "id": "Y4CBa_CqkaTQ",
        "outputId": "d811c43d-c6e3-42f9-fc87-0df17e12bd78"
      },
      "execution_count": 9,
      "outputs": [
        {
          "output_type": "execute_result",
          "data": {
            "text/plain": [
              "DatasetDict({\n",
              "    train: Dataset({\n",
              "        features: ['text', 'summa'],\n",
              "        num_rows: 54\n",
              "    })\n",
              "    test: Dataset({\n",
              "        features: ['text', 'summa'],\n",
              "        num_rows: 8\n",
              "    })\n",
              "})"
            ]
          },
          "metadata": {},
          "execution_count": 9
        }
      ]
    },
    {
      "cell_type": "code",
      "source": [
        "our_dataset['train'] = our_dataset['train'].shuffle(seed=seed)"
      ],
      "metadata": {
        "id": "uAc8l4BdkfyP"
      },
      "execution_count": 10,
      "outputs": []
    },
    {
      "cell_type": "code",
      "source": [
        "our_dataset['train'][0]['text']"
      ],
      "metadata": {
        "colab": {
          "base_uri": "https://localhost:8080/",
          "height": 140
        },
        "id": "bDgQKhrlkjnS",
        "outputId": "598f5aed-a443-4250-e218-dd34c7db23a8"
      },
      "execution_count": 11,
      "outputs": [
        {
          "output_type": "execute_result",
          "data": {
            "text/plain": [
              "'здравствуйте это служба технической поддержки университета чем я могу вам помочь здравствуйте у меня проблема с микрофоном он не улавливает мой голос во время онлайн занятий это ю сб микрофон или микрофон с разъемом три целых пять десятых миллиметра это есьби микрофон хорошо подключите его к другому юсб порту и посмотрите работает ли он ладно я попробую нет он все еще не работает так зайдите в диспетчер устройств и найдите микрофон в разделе аудия входов и выходов щелкните на нем правой кнопкой мыши и выберите обновить драйвер окей я делаю это он говорит что лучшие драйверы уже установлены хм это странно возможно проблема с самим микрофоном у вас есть другой микрофон который вы можете попробовать да у меня есть старый котораый использует разъем три целых и пять десятых миллиметра подключите его и посмотрите работает ли он хорошо и работает может быть вы сможете вернуть новый микрофон и получить деньги назад или замену да я так и сделаю хорошего дня вам тоже до свидания'"
            ],
            "application/vnd.google.colaboratory.intrinsic+json": {
              "type": "string"
            }
          },
          "metadata": {},
          "execution_count": 11
        }
      ]
    },
    {
      "cell_type": "code",
      "source": [
        "prefix = \"summarize: \"\n",
        "dropout_prob = 0.0\n",
        "\n",
        "def preprocess_function(examples):\n",
        "    dropped_inputs = apply_word_dropout(examples[\"text\"], dropout_prob)\n",
        "    inputs = [prefix + doc for doc in dropped_inputs]\n",
        "    model_inputs = tokenizer(inputs, max_length=1024, truncation=True)\n",
        "\n",
        "    labels = tokenizer(text_target=examples[\"summa\"], max_length=256, truncation=True) # Если поменять max_length на побольше, то, вероятно, модель не будет обрезать предложения на полуслове\n",
        "\n",
        "    model_inputs[\"labels\"] = labels[\"input_ids\"]\n",
        "    model_inputs[\"text\"] = examples[\"text\"]\n",
        "    model_inputs[\"summa\"] = examples[\"summa\"]\n",
        "    return model_inputs"
      ],
      "metadata": {
        "id": "KqOr86B4komK"
      },
      "execution_count": 12,
      "outputs": []
    },
    {
      "cell_type": "code",
      "source": [
        "tokenized_our_dataset = our_dataset.map(preprocess_function, batched=True)"
      ],
      "metadata": {
        "colab": {
          "base_uri": "https://localhost:8080/",
          "height": 17,
          "referenced_widgets": [
            "6da3baea88604670b5ccf0e136d867aa",
            "340baa2f575e4214862c87ab6e327f15",
            "2fd439fdcfed4b1990f430a593f53730",
            "9f38bb8b8e9546248df0760a38b52200",
            "6d6ecd6d34f94f5db26c545c5f27b7dc",
            "ba8e076c00bb4f65b6dfb95dcc705427",
            "b9a4a68c82874c1c807fe0d86065c093",
            "cafd3f648d3d4efd898480941a6c3e13",
            "e784c86cf5344c82b9e5986ab1d483db",
            "15668b4f41fb406582ec6992449aa01f",
            "4b10b9e1201d4c108e12b96611c9e854",
            "7d50f6808d574e1f960db7caeebb4307",
            "d8ba136599b24c64b3e9d3928122057b",
            "446fde0377ca4e02ba80fdd9b5545203",
            "3781e0f1f65e4e90aff64a857dac07ae",
            "28a2d1c0bc34496fa8023205dbc1faa8",
            "9f1aa75a3cc64efcbd3c474e56702bbe",
            "f45ed03d8fa148fa9c56ac526f7dc10e",
            "9a99a2f3163a48b0adf975b5a8efe759",
            "22f8d10c84814b4f8b266f165c2d4c9b",
            "ae2fd832555346a7a04a3a981cb8c8a2",
            "97853e9540024e879ecd1e889fa640dd"
          ]
        },
        "id": "6txywUH5k52d",
        "outputId": "46413c33-6454-4f90-a66e-ea0eac9793b2"
      },
      "execution_count": 13,
      "outputs": [
        {
          "output_type": "display_data",
          "data": {
            "text/plain": [
              "Map:   0%|          | 0/54 [00:00<?, ? examples/s]"
            ],
            "application/vnd.jupyter.widget-view+json": {
              "version_major": 2,
              "version_minor": 0,
              "model_id": "6da3baea88604670b5ccf0e136d867aa"
            }
          },
          "metadata": {}
        },
        {
          "output_type": "display_data",
          "data": {
            "text/plain": [
              "Map:   0%|          | 0/8 [00:00<?, ? examples/s]"
            ],
            "application/vnd.jupyter.widget-view+json": {
              "version_major": 2,
              "version_minor": 0,
              "model_id": "7d50f6808d574e1f960db7caeebb4307"
            }
          },
          "metadata": {}
        }
      ]
    },
    {
      "cell_type": "code",
      "source": [
        "tokenized_our_dataset"
      ],
      "metadata": {
        "id": "8Lx80ZJAk7o0"
      },
      "execution_count": null,
      "outputs": []
    },
    {
      "cell_type": "code",
      "source": [
        "from transformers import DataCollatorForSeq2Seq\n",
        "data_collator = DataCollatorForSeq2Seq(tokenizer=tokenizer, model=MODEL_NAME)"
      ],
      "metadata": {
        "id": "_VA3pc2Nk9Wz"
      },
      "execution_count": 15,
      "outputs": []
    },
    {
      "cell_type": "code",
      "source": [
        "!pip install -q rouge"
      ],
      "metadata": {
        "id": "v78x57APk_i4"
      },
      "execution_count": 16,
      "outputs": []
    },
    {
      "cell_type": "code",
      "source": [
        "from rouge import Rouge\n",
        "import numpy as np\n",
        "rouge = Rouge()\n",
        "def compute_metrics(eval_pred):\n",
        "    predictions, labels = eval_pred\n",
        "    decoded_preds = tokenizer.batch_decode(predictions, skip_special_tokens=True)\n",
        "    labels = np.where(labels != -100, labels, tokenizer.pad_token_id)\n",
        "    decoded_labels = tokenizer.batch_decode(labels, skip_special_tokens=True)\n",
        "    print('True:', decoded_labels)\n",
        "    print('prediction:', decoded_preds)\n",
        "\n",
        "    scores = rouge.get_scores(decoded_labels, decoded_preds, avg=True)\n",
        "\n",
        "    prediction_lens = [np.count_nonzero(pred != tokenizer.pad_token_id) for pred in predictions]\n",
        "    scores['gen_len'] = {'f': np.mean(prediction_lens)}\n",
        "    scores['avg_rouge_f'] = {'f': np.mean([scores['rouge-1']['f'], \n",
        "                                           scores['rouge-2']['f'], \n",
        "                                           scores['rouge-l']['f']])}  \n",
        "\n",
        "    return {k: round(v['f'], 4) for k, v in scores.items()}"
      ],
      "metadata": {
        "id": "fyRrsPzPlBAC"
      },
      "execution_count": 17,
      "outputs": []
    },
    {
      "cell_type": "markdown",
      "source": [
        "##Train"
      ],
      "metadata": {
        "id": "PS3jqg3Wm4R6"
      }
    },
    {
      "cell_type": "code",
      "source": [
        "from transformers import EarlyStoppingCallback\n",
        "callback = EarlyStoppingCallback(early_stopping_patience=10, \n",
        "                                 early_stopping_threshold=0.0001)"
      ],
      "metadata": {
        "id": "rvXhw2H4lCtX"
      },
      "execution_count": 18,
      "outputs": []
    },
    {
      "cell_type": "code",
      "source": [
        "from transformers import AutoModelForSeq2SeqLM, Seq2SeqTrainingArguments, Seq2SeqTrainer\n",
        "model_name = MODEL_NAME.split(\"/\")[-1]\n",
        "batch_size = 3\n",
        "training_args = Seq2SeqTrainingArguments(\n",
        "    output_dir=f\"{model_name}-finetuned-on-calls\",\n",
        "    evaluation_strategy=\"steps\",\n",
        "    eval_steps=50,\n",
        "    learning_rate=2e-5,\n",
        "    per_device_train_batch_size=batch_size, \n",
        "    per_device_eval_batch_size=1,\n",
        "    weight_decay=0.01,\n",
        "    warmup_steps=200,\n",
        "    save_total_limit=3,\n",
        "    num_train_epochs=250,\n",
        "    predict_with_generate=True,\n",
        "    push_to_hub=False,\n",
        "    logging_steps=50,\n",
        "    load_best_model_at_end=True,\n",
        "    metric_for_best_model='eval_avg_rouge_f',\n",
        ")"
      ],
      "metadata": {
        "id": "OMyEjKo6lEfI"
      },
      "execution_count": 19,
      "outputs": []
    },
    {
      "cell_type": "code",
      "source": [
        "num_folds = 9"
      ],
      "metadata": {
        "id": "z5YWy7VclK7e"
      },
      "execution_count": 20,
      "outputs": []
    },
    {
      "cell_type": "code",
      "source": [
        "from datasets import Dataset\n",
        "from tqdm.auto import trange\n",
        "t5_config = T5Config.from_pretrained(MODEL_NAME)\n",
        "t5_config.dropout_rate = 0.1\n",
        "total_avg_rouge = 0\n",
        "for i in trange(num_folds):\n",
        "  model = T5ForConditionalGeneration.from_pretrained(MODEL_NAME,\n",
        "                                                     config=t5_config)\n",
        "\n",
        "  ex_text = tokenized_our_dataset['train'][i*6:(i+1)*6]['text']\n",
        "  ex_summa = tokenized_our_dataset['train'][i*6:(i+1)*6]['summa']\n",
        "  ex_input_ids = tokenized_our_dataset['train'][i*6:(i+1)*6]['input_ids']\n",
        "  ex_attention_mask = tokenized_our_dataset['train'][i*6:(i+1)*6]['attention_mask']\n",
        "  ex_labels = tokenized_our_dataset['train'][i*6:(i+1)*6]['labels']\n",
        "\n",
        "  test_dataset = Dataset.from_dict({'text': ex_text, 'summa': ex_summa, \n",
        "                                    'input_ids': ex_input_ids, \n",
        "                                    'attention_mask': ex_attention_mask,\n",
        "                                    'labels': ex_labels})\n",
        "  \n",
        "  train_text = tokenized_our_dataset['train'][:i*6]['text'] + tokenized_our_dataset['train'][(i+1)*6:]['text']\n",
        "  train_summa = tokenized_our_dataset['train'][:i*6]['summa'] + tokenized_our_dataset['train'][(i+1)*6:]['summa']\n",
        "\n",
        "  train_dataset = Dataset.from_dict({'text': train_text, 'summa': train_summa, \n",
        "                                     })\n",
        "  train_dataset.set_transform(preprocess_function)\n",
        "  trainer = Seq2SeqTrainer(\n",
        "    model=model,\n",
        "    args=training_args,\n",
        "    train_dataset=train_dataset,\n",
        "    eval_dataset=test_dataset,\n",
        "    tokenizer=tokenizer,\n",
        "    data_collator=data_collator,\n",
        "    compute_metrics=compute_metrics,\n",
        "    )\n",
        "  trainer.add_callback(callback)\n",
        "  trainer.train()\n",
        "  trainer.save_model()\n",
        "  trainer.save_state()\n",
        "  metrics = trainer.evaluate()\n",
        "  total_avg_rouge += metrics['eval_avg_rouge_f']\n",
        "  torch.cuda.empty_cache()"
      ],
      "metadata": {
        "id": "UdBllFSMlfyn"
      },
      "execution_count": null,
      "outputs": []
    },
    {
      "cell_type": "markdown",
      "source": [
        "##Test"
      ],
      "metadata": {
        "id": "51spKnbimuOT"
      }
    },
    {
      "cell_type": "code",
      "source": [
        "from transformers import AutoModelForSeq2SeqLM, Seq2SeqTrainingArguments, Seq2SeqTrainer\n",
        "model_name = MODEL_NAME.split(\"/\")[-1]\n",
        "batch_size = 3\n",
        "training_args = Seq2SeqTrainingArguments(\n",
        "    output_dir=f\"{model_name}-finetuned-on-calls\",\n",
        "    evaluation_strategy=\"steps\",\n",
        "    eval_steps=50,\n",
        "    learning_rate=2e-5,\n",
        "    per_device_train_batch_size=batch_size, \n",
        "    per_device_eval_batch_size=1,\n",
        "    weight_decay=0.01,\n",
        "    warmup_steps=200,\n",
        "    save_total_limit=3,\n",
        "    num_train_epochs=250,\n",
        "    predict_with_generate=True,\n",
        "    push_to_hub=False,\n",
        "    logging_steps=50,\n",
        "    load_best_model_at_end=True,\n",
        "    metric_for_best_model='eval_avg_rouge_f',\n",
        ")"
      ],
      "metadata": {
        "id": "p4pn5-h-nHBc"
      },
      "execution_count": 22,
      "outputs": []
    },
    {
      "cell_type": "code",
      "source": [
        "from tqdm.auto import trange\n",
        "t5_config = T5Config.from_pretrained(MODEL_NAME)\n",
        "t5_config.dropout_rate = 0.1\n",
        "model = T5ForConditionalGeneration.from_pretrained(MODEL_NAME,\n",
        "                                                     config=t5_config)\n",
        "test_dataset = tokenized_our_dataset['test']\n",
        "train_dataset = tokenized_our_dataset['train']\n",
        "train_dataset.set_transform(preprocess_function)\n",
        "trainer = Seq2SeqTrainer(\n",
        "    model=model,\n",
        "    args=training_args,\n",
        "    train_dataset=train_dataset,\n",
        "    eval_dataset=test_dataset,\n",
        "    tokenizer=tokenizer,\n",
        "    data_collator=data_collator,\n",
        "    compute_metrics=compute_metrics,\n",
        "    )\n",
        "trainer.train()"
      ],
      "metadata": {
        "id": "Pjb_rnJEmv3j"
      },
      "execution_count": null,
      "outputs": []
    },
    {
      "cell_type": "code",
      "source": [
        "trainer.save_model()\n",
        "trainer.save_state()\n",
        "metrics = trainer.evaluate()\n",
        "\n",
        "trainer.log_metrics(\"eval\", metrics)\n",
        "trainer.save_metrics(\"eval\", metrics)"
      ],
      "metadata": {
        "id": "JnJhSQxRnMmH"
      },
      "execution_count": null,
      "outputs": []
    }
  ]
}