{
 "cells": [
  {
   "attachments": {},
   "cell_type": "markdown",
   "id": "a55ee2ca",
   "metadata": {},
   "source": [
    "# Test ASR model, calculate WER, CER metrics"
   ]
  },
  {
   "attachments": {},
   "cell_type": "markdown",
   "id": "f578383e",
   "metadata": {},
   "source": [
    "install"
   ]
  },
  {
   "cell_type": "code",
   "execution_count": null,
   "id": "844a6e24",
   "metadata": {},
   "outputs": [],
   "source": []
  },
  {
   "attachments": {},
   "cell_type": "markdown",
   "id": "1db0395c",
   "metadata": {},
   "source": [
    "imports"
   ]
  },
  {
   "cell_type": "code",
   "execution_count": null,
   "id": "e8a3aeb5",
   "metadata": {},
   "outputs": [],
   "source": [
    "import pandas as pd\n",
    "import os\n",
    "\n",
    "import nemo\n",
    "\n",
    "from src.test_utils import test_asr_model"
   ]
  },
  {
   "attachments": {},
   "cell_type": "markdown",
   "id": "333c7912",
   "metadata": {},
   "source": [
    "load ASR model"
   ]
  },
  {
   "cell_type": "code",
   "execution_count": 32,
   "id": "0f169572",
   "metadata": {},
   "outputs": [
    {
     "name": "stdout",
     "output_type": "stream",
     "text": [
      "ASR-Golos-Model-ru--val_wer=0.1062-epoch=50-last.ckpt\n"
     ]
    }
   ],
   "source": [
    "folder_path = 'experiments/ASR-Golos-Model-ru/2022-11-22_13-58-47/checkpoints/'\n",
    "last_ckpt = os.listdir(folder_path)[-1]\n",
    "print(last_ckpt)\n",
    "\n",
    "model = nemo.collections.asr.models.EncDecCTCModel.load_from_checkpoint(folder_path+last_ckpt)\n",
    "model.save_to('ASR_models/golos_ft_withSpecAug_50epochs.nemo')"
   ]
  },
  {
   "cell_type": "markdown",
   "id": "3ffe2956",
   "metadata": {},
   "source": [
    "## inference"
   ]
  },
  {
   "cell_type": "code",
   "execution_count": null,
   "id": "35cebf3f",
   "metadata": {
    "collapsed": true
   },
   "outputs": [],
   "source": [
    "model = nemo.collections.asr.models.EncDecCTCModel.restore_from('ASR_models/golos_ft_withSpecAug_50epochs.nemo')"
   ]
  },
  {
   "cell_type": "code",
   "execution_count": 10,
   "id": "21438917",
   "metadata": {},
   "outputs": [
    {
     "data": {
      "application/vnd.jupyter.widget-view+json": {
       "model_id": "082ed6472d2842fabe1aa6112813fd39",
       "version_major": 2,
       "version_minor": 0
      },
      "text/plain": [
       "Transcribing:   0%|          | 0/12885 [00:03<?, ?it/s]"
      ]
     },
     "metadata": {},
     "output_type": "display_data"
    },
    {
     "name": "stdout",
     "output_type": "stream",
     "text": [
      "golos fine-tuned 50 epochs with SpecAugment:\n",
      "WER: 0.106251618384419\n",
      "CER: 0.02671219908519743 \n",
      "\n"
     ]
    }
   ],
   "source": [
    "test_text, described_text, _ = test_asr_model(\n",
    "    model = model, \n",
    "    batch_size = 4,\n",
    "    manifests = mn_list\n",
    ")"
   ]
  },
  {
   "cell_type": "code",
   "execution_count": 66,
   "id": "b5f46043",
   "metadata": {},
   "outputs": [
    {
     "data": {
      "text/html": [
       "<div>\n",
       "<style scoped>\n",
       "    .dataframe tbody tr th:only-of-type {\n",
       "        vertical-align: middle;\n",
       "    }\n",
       "\n",
       "    .dataframe tbody tr th {\n",
       "        vertical-align: top;\n",
       "    }\n",
       "\n",
       "    .dataframe thead th {\n",
       "        text-align: right;\n",
       "    }\n",
       "</style>\n",
       "<table border=\"1\" class=\"dataframe\">\n",
       "  <thead>\n",
       "    <tr style=\"text-align: right;\">\n",
       "      <th></th>\n",
       "      <th>real</th>\n",
       "      <th>pred</th>\n",
       "    </tr>\n",
       "  </thead>\n",
       "  <tbody>\n",
       "    <tr>\n",
       "      <th>0</th>\n",
       "      <td>если не будет возражений я буду считать что ас...</td>\n",
       "      <td>если не будет возражений я буду считать что ас...</td>\n",
       "    </tr>\n",
       "    <tr>\n",
       "      <th>1</th>\n",
       "      <td>палестинцам необходимо сначала установить мир ...</td>\n",
       "      <td>пороскинцам необходимо сначала установить мир ...</td>\n",
       "    </tr>\n",
       "    <tr>\n",
       "      <th>2</th>\n",
       "      <td>у меня было такое чувство что чтото такое очен...</td>\n",
       "      <td>у меня было такое чувство что чтото такое очен...</td>\n",
       "    </tr>\n",
       "    <tr>\n",
       "      <th>3</th>\n",
       "      <td>только вряд ли поймет</td>\n",
       "      <td>только вряд ли поймет</td>\n",
       "    </tr>\n",
       "    <tr>\n",
       "      <th>4</th>\n",
       "      <td>вронский слушая одним ухом переводил бинокль с...</td>\n",
       "      <td>владкий слушая один однимуком приводилбы рокот...</td>\n",
       "    </tr>\n",
       "  </tbody>\n",
       "</table>\n",
       "</div>"
      ],
      "text/plain": [
       "                                                real  \\\n",
       "0  если не будет возражений я буду считать что ас...   \n",
       "1  палестинцам необходимо сначала установить мир ...   \n",
       "2  у меня было такое чувство что чтото такое очен...   \n",
       "3                              только вряд ли поймет   \n",
       "4  вронский слушая одним ухом переводил бинокль с...   \n",
       "\n",
       "                                                pred  \n",
       "0  если не будет возражений я буду считать что ас...  \n",
       "1  пороскинцам необходимо сначала установить мир ...  \n",
       "2  у меня было такое чувство что чтото такое очен...  \n",
       "3                              только вряд ли поймет  \n",
       "4  владкий слушая один однимуком приводилбы рокот...  "
      ]
     },
     "execution_count": 66,
     "metadata": {},
     "output_type": "execute_result"
    }
   ],
   "source": [
    "df = pd.DataFrame({'real': test_text, 'pred': described_text})\n",
    "df.to_csv('inference_dataframes/golos50e_wer_11.tsv', sep='\\t', index=False)\n",
    "pd.read_csv('inference_dataframes/golos50e_wer_11.tsv', sep='\\t').head()"
   ]
  }
 ],
 "metadata": {
  "kernelspec": {
   "display_name": "Python 3 (ipykernel)",
   "language": "python",
   "name": "python3"
  },
  "language_info": {
   "codemirror_mode": {
    "name": "ipython",
    "version": 3
   },
   "file_extension": ".py",
   "mimetype": "text/x-python",
   "name": "python",
   "nbconvert_exporter": "python",
   "pygments_lexer": "ipython3",
   "version": "3.9.13"
  }
 },
 "nbformat": 4,
 "nbformat_minor": 5
}
