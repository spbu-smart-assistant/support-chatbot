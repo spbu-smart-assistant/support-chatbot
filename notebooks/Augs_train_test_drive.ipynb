{
  "nbformat": 4,
  "nbformat_minor": 0,
  "metadata": {
    "colab": {
      "provenance": [],
      "toc_visible": true
    },
    "kernelspec": {
      "name": "python3",
      "display_name": "Python 3"
    },
    "language_info": {
      "name": "python"
    }
  },
  "cells": [
    {
      "cell_type": "markdown",
      "source": [
        "##imports"
      ],
      "metadata": {
        "id": "ASl_eDzJJ1II"
      }
    },
    {
      "cell_type": "code",
      "execution_count": null,
      "metadata": {
        "id": "P-3bPXtHhTxO"
      },
      "outputs": [],
      "source": [
        "\"\"\"\n",
        "Источник: https://github.com/NVIDIA/NeMo/blob/main/tutorials/asr/Online_Noise_Augmentation.ipynb\n",
        "\"\"\"\n",
        "\n",
        "#Установка необходимых пакетов\n",
        "BRANCH = 'main'\n",
        "!python -m pip install git+https://github.com/NVIDIA/NeMo.git@$BRANCH#egg=nemo_toolkit[asr]\n",
        "!pip install librosa==0.9.2\n",
        "!pip install json\n",
        "!pip install soundfile==0.12.1"
      ]
    },
    {
      "cell_type": "code",
      "source": [
        "import json\n",
        "from nemo.collections.asr.parts.preprocessing import perturb, segment\n",
        "import glob\n",
        "import soundfile as sf\n",
        "import os\n",
        "import librosa"
      ],
      "metadata": {
        "id": "KczBo8iolWd7"
      },
      "execution_count": null,
      "outputs": []
    },
    {
      "cell_type": "markdown",
      "source": [
        "* Перейдите в раздел \"Общий доступ\" в Google Диске.\n",
        "* Выберите SPbU_smart-assistant\n",
        "* Щелкните ее правой кнопкой мыши и выберите Добавить ярлык на диск.\n",
        "* Появится всплывающее окно, выберите MyDrive и нажмите Добавить ярлык.\n",
        "* Теперь перейдите в блокнот Google Colab и подключитесь к Google Диску с помощью кнопки\n"
      ],
      "metadata": {
        "id": "Cw8nP9b8BG8p"
      }
    },
    {
      "cell_type": "code",
      "source": [
        "from google.colab import drive\n",
        "drive.mount('/content/drive')"
      ],
      "metadata": {
        "id": "rtJzu0i1ladr"
      },
      "execution_count": null,
      "outputs": []
    },
    {
      "cell_type": "code",
      "source": [
        "import pandas as pd\n",
        "from collections import defaultdict\n",
        "from sklearn.model_selection import train_test_split"
      ],
      "metadata": {
        "id": "hm_ZOpmyJlqb"
      },
      "execution_count": 4,
      "outputs": []
    },
    {
      "cell_type": "code",
      "source": [
        "!git clone https://github.com/spbu-smart-assistant/support-chatbot.git"
      ],
      "metadata": {
        "id": "mxwsYD4qMTJL"
      },
      "execution_count": null,
      "outputs": []
    },
    {
      "cell_type": "markdown",
      "source": [
        "##train test split based on an existing tsv file"
      ],
      "metadata": {
        "id": "NSWeLWsAJ6C3"
      }
    },
    {
      "cell_type": "code",
      "source": [
        "rows = [i*15 for i in range(16)]"
      ],
      "metadata": {
        "id": "YHdTub45VsB0"
      },
      "execution_count": 12,
      "outputs": []
    },
    {
      "cell_type": "code",
      "source": [
        "table = pd.read_csv('/content/support-chatbot/data/raw/Transcriptions.tsv', sep='\\t')\n",
        "crop = table.iloc[rows, :2]\n",
        "crop"
      ],
      "metadata": {
        "colab": {
          "base_uri": "https://localhost:8080/",
          "height": 551
        },
        "id": "raY8ircrJoqD",
        "outputId": "91680489-2d45-4bcd-b626-708213b97866"
      },
      "execution_count": 53,
      "outputs": [
        {
          "output_type": "execute_result",
          "data": {
            "text/plain": [
              "                                                  Tags                Names\n",
              "0      Пароль, Почта, Факультет, Студенческий, Деканат   Audio1_speed_0.wav\n",
              "15                   Кабинет, Компьютер, Оборудование    Audio2_speed_0.wav\n",
              "30                                 Интернет, Общежитие   Audio3_speed_0.wav\n",
              "45        Интернет, Общежитие, Компьютер, Сеть, Оплата   Audio4_speed_0.wav\n",
              "60                        Блэкборд, Технические работы   Audio5_speed_0.wav\n",
              "75                              Облачное хранилище, Ст   Audio6_speed_0.wav\n",
              "90               Тимс, Пароль, Студенческий, Ст, Почта   Audio7_speed_0.wav\n",
              "105  Вайфай, Виндовс, Сеть, Пароль, Студенческий, П...   Audio8_speed_0.wav\n",
              "120            Устройства, Печать, Принтер, Библиотека   Audio9_speed_0.wav\n",
              "135            Библиотека, Пароль, Студенческий, Почта  Audio10_speed_0.wav\n",
              "150                                     Тимс, Интернет  Audio11_speed_0.wav\n",
              "165                        Тимс, Устройства, Компьютер  Audio12_speed_0.wav\n",
              "180                                   Устройства, Тимс  Audio13_speed_0.wav\n",
              "195                            Экзамус, Экзамен, Почта  Audio14_speed_0.wav\n",
              "210                               Экзамен, Тимс, Почта  Audio15_speed_0.wav\n",
              "225                   Матлаб, Виндовс, Программа, Сайт  Audio16_speed_0.wav"
            ],
            "text/html": [
              "\n",
              "  <div id=\"df-895c97a8-a529-476d-ae7c-f0a3633bbf1b\">\n",
              "    <div class=\"colab-df-container\">\n",
              "      <div>\n",
              "<style scoped>\n",
              "    .dataframe tbody tr th:only-of-type {\n",
              "        vertical-align: middle;\n",
              "    }\n",
              "\n",
              "    .dataframe tbody tr th {\n",
              "        vertical-align: top;\n",
              "    }\n",
              "\n",
              "    .dataframe thead th {\n",
              "        text-align: right;\n",
              "    }\n",
              "</style>\n",
              "<table border=\"1\" class=\"dataframe\">\n",
              "  <thead>\n",
              "    <tr style=\"text-align: right;\">\n",
              "      <th></th>\n",
              "      <th>Tags</th>\n",
              "      <th>Names</th>\n",
              "    </tr>\n",
              "  </thead>\n",
              "  <tbody>\n",
              "    <tr>\n",
              "      <th>0</th>\n",
              "      <td>Пароль, Почта, Факультет, Студенческий, Деканат</td>\n",
              "      <td>Audio1_speed_0.wav</td>\n",
              "    </tr>\n",
              "    <tr>\n",
              "      <th>15</th>\n",
              "      <td>Кабинет, Компьютер, Оборудование</td>\n",
              "      <td>Audio2_speed_0.wav</td>\n",
              "    </tr>\n",
              "    <tr>\n",
              "      <th>30</th>\n",
              "      <td>Интернет, Общежитие</td>\n",
              "      <td>Audio3_speed_0.wav</td>\n",
              "    </tr>\n",
              "    <tr>\n",
              "      <th>45</th>\n",
              "      <td>Интернет, Общежитие, Компьютер, Сеть, Оплата</td>\n",
              "      <td>Audio4_speed_0.wav</td>\n",
              "    </tr>\n",
              "    <tr>\n",
              "      <th>60</th>\n",
              "      <td>Блэкборд, Технические работы</td>\n",
              "      <td>Audio5_speed_0.wav</td>\n",
              "    </tr>\n",
              "    <tr>\n",
              "      <th>75</th>\n",
              "      <td>Облачное хранилище, Ст</td>\n",
              "      <td>Audio6_speed_0.wav</td>\n",
              "    </tr>\n",
              "    <tr>\n",
              "      <th>90</th>\n",
              "      <td>Тимс, Пароль, Студенческий, Ст, Почта</td>\n",
              "      <td>Audio7_speed_0.wav</td>\n",
              "    </tr>\n",
              "    <tr>\n",
              "      <th>105</th>\n",
              "      <td>Вайфай, Виндовс, Сеть, Пароль, Студенческий, П...</td>\n",
              "      <td>Audio8_speed_0.wav</td>\n",
              "    </tr>\n",
              "    <tr>\n",
              "      <th>120</th>\n",
              "      <td>Устройства, Печать, Принтер, Библиотека</td>\n",
              "      <td>Audio9_speed_0.wav</td>\n",
              "    </tr>\n",
              "    <tr>\n",
              "      <th>135</th>\n",
              "      <td>Библиотека, Пароль, Студенческий, Почта</td>\n",
              "      <td>Audio10_speed_0.wav</td>\n",
              "    </tr>\n",
              "    <tr>\n",
              "      <th>150</th>\n",
              "      <td>Тимс, Интернет</td>\n",
              "      <td>Audio11_speed_0.wav</td>\n",
              "    </tr>\n",
              "    <tr>\n",
              "      <th>165</th>\n",
              "      <td>Тимс, Устройства, Компьютер</td>\n",
              "      <td>Audio12_speed_0.wav</td>\n",
              "    </tr>\n",
              "    <tr>\n",
              "      <th>180</th>\n",
              "      <td>Устройства, Тимс</td>\n",
              "      <td>Audio13_speed_0.wav</td>\n",
              "    </tr>\n",
              "    <tr>\n",
              "      <th>195</th>\n",
              "      <td>Экзамус, Экзамен, Почта</td>\n",
              "      <td>Audio14_speed_0.wav</td>\n",
              "    </tr>\n",
              "    <tr>\n",
              "      <th>210</th>\n",
              "      <td>Экзамен, Тимс, Почта</td>\n",
              "      <td>Audio15_speed_0.wav</td>\n",
              "    </tr>\n",
              "    <tr>\n",
              "      <th>225</th>\n",
              "      <td>Матлаб, Виндовс, Программа, Сайт</td>\n",
              "      <td>Audio16_speed_0.wav</td>\n",
              "    </tr>\n",
              "  </tbody>\n",
              "</table>\n",
              "</div>\n",
              "      <button class=\"colab-df-convert\" onclick=\"convertToInteractive('df-895c97a8-a529-476d-ae7c-f0a3633bbf1b')\"\n",
              "              title=\"Convert this dataframe to an interactive table.\"\n",
              "              style=\"display:none;\">\n",
              "        \n",
              "  <svg xmlns=\"http://www.w3.org/2000/svg\" height=\"24px\"viewBox=\"0 0 24 24\"\n",
              "       width=\"24px\">\n",
              "    <path d=\"M0 0h24v24H0V0z\" fill=\"none\"/>\n",
              "    <path d=\"M18.56 5.44l.94 2.06.94-2.06 2.06-.94-2.06-.94-.94-2.06-.94 2.06-2.06.94zm-11 1L8.5 8.5l.94-2.06 2.06-.94-2.06-.94L8.5 2.5l-.94 2.06-2.06.94zm10 10l.94 2.06.94-2.06 2.06-.94-2.06-.94-.94-2.06-.94 2.06-2.06.94z\"/><path d=\"M17.41 7.96l-1.37-1.37c-.4-.4-.92-.59-1.43-.59-.52 0-1.04.2-1.43.59L10.3 9.45l-7.72 7.72c-.78.78-.78 2.05 0 2.83L4 21.41c.39.39.9.59 1.41.59.51 0 1.02-.2 1.41-.59l7.78-7.78 2.81-2.81c.8-.78.8-2.07 0-2.86zM5.41 20L4 18.59l7.72-7.72 1.47 1.35L5.41 20z\"/>\n",
              "  </svg>\n",
              "      </button>\n",
              "      \n",
              "  <style>\n",
              "    .colab-df-container {\n",
              "      display:flex;\n",
              "      flex-wrap:wrap;\n",
              "      gap: 12px;\n",
              "    }\n",
              "\n",
              "    .colab-df-convert {\n",
              "      background-color: #E8F0FE;\n",
              "      border: none;\n",
              "      border-radius: 50%;\n",
              "      cursor: pointer;\n",
              "      display: none;\n",
              "      fill: #1967D2;\n",
              "      height: 32px;\n",
              "      padding: 0 0 0 0;\n",
              "      width: 32px;\n",
              "    }\n",
              "\n",
              "    .colab-df-convert:hover {\n",
              "      background-color: #E2EBFA;\n",
              "      box-shadow: 0px 1px 2px rgba(60, 64, 67, 0.3), 0px 1px 3px 1px rgba(60, 64, 67, 0.15);\n",
              "      fill: #174EA6;\n",
              "    }\n",
              "\n",
              "    [theme=dark] .colab-df-convert {\n",
              "      background-color: #3B4455;\n",
              "      fill: #D2E3FC;\n",
              "    }\n",
              "\n",
              "    [theme=dark] .colab-df-convert:hover {\n",
              "      background-color: #434B5C;\n",
              "      box-shadow: 0px 1px 3px 1px rgba(0, 0, 0, 0.15);\n",
              "      filter: drop-shadow(0px 1px 2px rgba(0, 0, 0, 0.3));\n",
              "      fill: #FFFFFF;\n",
              "    }\n",
              "  </style>\n",
              "\n",
              "      <script>\n",
              "        const buttonEl =\n",
              "          document.querySelector('#df-895c97a8-a529-476d-ae7c-f0a3633bbf1b button.colab-df-convert');\n",
              "        buttonEl.style.display =\n",
              "          google.colab.kernel.accessAllowed ? 'block' : 'none';\n",
              "\n",
              "        async function convertToInteractive(key) {\n",
              "          const element = document.querySelector('#df-895c97a8-a529-476d-ae7c-f0a3633bbf1b');\n",
              "          const dataTable =\n",
              "            await google.colab.kernel.invokeFunction('convertToInteractive',\n",
              "                                                     [key], {});\n",
              "          if (!dataTable) return;\n",
              "\n",
              "          const docLinkHtml = 'Like what you see? Visit the ' +\n",
              "            '<a target=\"_blank\" href=https://colab.research.google.com/notebooks/data_table.ipynb>data table notebook</a>'\n",
              "            + ' to learn more about interactive tables.';\n",
              "          element.innerHTML = '';\n",
              "          dataTable['output_type'] = 'display_data';\n",
              "          await google.colab.output.renderOutput(dataTable, element);\n",
              "          const docLink = document.createElement('div');\n",
              "          docLink.innerHTML = docLinkHtml;\n",
              "          element.appendChild(docLink);\n",
              "        }\n",
              "      </script>\n",
              "    </div>\n",
              "  </div>\n",
              "  "
            ]
          },
          "metadata": {},
          "execution_count": 53
        }
      ]
    },
    {
      "cell_type": "code",
      "source": [
        "lib = defaultdict(list)\n",
        "for index, row in crop.iterrows():\n",
        "  row['Names'] = row['Names'].split('_')[0]\n",
        "  tags = row['Tags'].replace(\" \", '').split(',')\n",
        "  for tag in tags:\n",
        "    lib[tag].append(row['Names'])\n",
        "lib"
      ],
      "metadata": {
        "colab": {
          "base_uri": "https://localhost:8080/"
        },
        "id": "TGpkdQQsbLI_",
        "outputId": "99050ee1-8b03-498c-93f9-7dcdfe0d64f6"
      },
      "execution_count": 57,
      "outputs": [
        {
          "output_type": "execute_result",
          "data": {
            "text/plain": [
              "defaultdict(list,\n",
              "            {'Пароль': ['Audio1', 'Audio7', 'Audio8', 'Audio10'],\n",
              "             'Почта': ['Audio1', 'Audio7', 'Audio10', 'Audio14', 'Audio15'],\n",
              "             'Факультет': ['Audio1'],\n",
              "             'Студенческий': ['Audio1', 'Audio7', 'Audio8', 'Audio10'],\n",
              "             'Деканат': ['Audio1'],\n",
              "             'Кабинет': ['Audio2'],\n",
              "             'Компьютер': ['Audio2', 'Audio4', 'Audio12'],\n",
              "             'Оборудование': ['Audio2'],\n",
              "             'Интернет': ['Audio3', 'Audio4', 'Audio11'],\n",
              "             'Общежитие': ['Audio3', 'Audio4'],\n",
              "             'Сеть': ['Audio4', 'Audio8'],\n",
              "             'Оплата': ['Audio4'],\n",
              "             'Блэкборд': ['Audio5'],\n",
              "             'Техническиеработы': ['Audio5'],\n",
              "             'Облачноехранилище': ['Audio6'],\n",
              "             'Ст': ['Audio6', 'Audio7'],\n",
              "             'Тимс': ['Audio7', 'Audio11', 'Audio12', 'Audio13', 'Audio15'],\n",
              "             'Вайфай': ['Audio8'],\n",
              "             'Виндовс': ['Audio8', 'Audio16'],\n",
              "             'ПМПУ': ['Audio8'],\n",
              "             'Кампус': ['Audio8'],\n",
              "             'Ноутбук': ['Audio8'],\n",
              "             'Телефон': ['Audio8'],\n",
              "             'Устройства': ['Audio9', 'Audio12', 'Audio13'],\n",
              "             'Печать': ['Audio9'],\n",
              "             'Принтер': ['Audio9'],\n",
              "             'Библиотека': ['Audio9', 'Audio10'],\n",
              "             'Экзамус': ['Audio14'],\n",
              "             'Экзамен': ['Audio14', 'Audio15'],\n",
              "             'Матлаб': ['Audio16'],\n",
              "             'Программа': ['Audio16'],\n",
              "             'Сайт': ['Audio16']})"
            ]
          },
          "metadata": {},
          "execution_count": 57
        }
      ]
    },
    {
      "cell_type": "code",
      "source": [
        "remain = set(crop['Names'].values.tolist())"
      ],
      "metadata": {
        "id": "4lxc0ynPA29b"
      },
      "execution_count": 58,
      "outputs": []
    },
    {
      "cell_type": "code",
      "source": [
        "temp = lib.copy()\n",
        "for key, ar in temp.items():\n",
        "  if len(ar) < 2:\n",
        "    lib.pop(key)"
      ],
      "metadata": {
        "id": "4VyrEhPaz7yB"
      },
      "execution_count": 56,
      "outputs": []
    },
    {
      "cell_type": "code",
      "source": [
        "srt = sorted(lib.items(), key=lambda kv: len(kv[1]))\n",
        "srt"
      ],
      "metadata": {
        "colab": {
          "base_uri": "https://localhost:8080/"
        },
        "id": "ONaZyZ8a9LaE",
        "outputId": "d7b54632-c912-44bc-fb4f-1e0880207bd2"
      },
      "execution_count": 17,
      "outputs": [
        {
          "output_type": "execute_result",
          "data": {
            "text/plain": [
              "[('Общежитие', ['Audio3', 'Audio4']),\n",
              " ('Сеть', ['Audio4', 'Audio8']),\n",
              " ('Ст', ['Audio6', 'Audio7']),\n",
              " ('Виндовс', ['Audio8', 'Audio16']),\n",
              " ('Библиотека', ['Audio9', 'Audio10']),\n",
              " ('Экзамен', ['Audio14', 'Audio15']),\n",
              " ('Компьютер', ['Audio2', 'Audio4', 'Audio12']),\n",
              " ('Интернет', ['Audio3', 'Audio4', 'Audio11']),\n",
              " ('Устройства', ['Audio9', 'Audio12', 'Audio13']),\n",
              " ('Пароль', ['Audio1', 'Audio7', 'Audio8', 'Audio10']),\n",
              " ('Студенческий', ['Audio1', 'Audio7', 'Audio8', 'Audio10']),\n",
              " ('Почта', ['Audio1', 'Audio7', 'Audio10', 'Audio14', 'Audio15']),\n",
              " ('Тимс', ['Audio7', 'Audio11', 'Audio12', 'Audio13', 'Audio15'])]"
            ]
          },
          "metadata": {},
          "execution_count": 17
        }
      ]
    },
    {
      "cell_type": "code",
      "source": [
        "x, y = [], []"
      ],
      "metadata": {
        "id": "BQiQGOaCAQPs"
      },
      "execution_count": 18,
      "outputs": []
    },
    {
      "cell_type": "code",
      "source": [
        "seen = set()\n",
        "for tag, names in srt:\n",
        "  for name in names:\n",
        "    if name not in seen:\n",
        "      seen.add(name)\n",
        "      x.append(name)\n",
        "      y.append(tag)"
      ],
      "metadata": {
        "id": "5KhFuT5-9WUE"
      },
      "execution_count": 19,
      "outputs": []
    },
    {
      "cell_type": "code",
      "source": [
        "x"
      ],
      "metadata": {
        "id": "3ARNH-XzBFaE"
      },
      "execution_count": null,
      "outputs": []
    },
    {
      "cell_type": "code",
      "source": [
        "remain -= set(x)\n",
        "remain"
      ],
      "metadata": {
        "id": "bwj7SyH439tZ"
      },
      "execution_count": null,
      "outputs": []
    },
    {
      "cell_type": "code",
      "source": [
        "y"
      ],
      "metadata": {
        "id": "bpdiqZFxBF1L"
      },
      "execution_count": null,
      "outputs": []
    },
    {
      "cell_type": "code",
      "source": [
        "#stratify only if a lot of values\n",
        "train_ratio = 0.7\n",
        "test_ratio = 0.3\n",
        "\n",
        "# train is now 75% of the entire data set\n",
        "x_train, x_test, y_train, y_test = train_test_split(x, y, test_size=1 - train_ratio)#stratify=y\n",
        "\n",
        "x_train.extend(remain)\n",
        "\n",
        "# test is now 10% of the initial data set\n",
        "# validation is now 15% of the initial data set\n",
        "#x_val, x_test, y_val, y_test = train_test_split(x_test, y_test, test_size=test_ratio/(test_ratio + validation_ratio)) #stratify=y_test\n",
        "\n",
        "datas = {\n",
        "    'train': x_train,\n",
        "    'test': x_test\n",
        "    #'val': x_val\n",
        "}\n",
        "datas"
      ],
      "metadata": {
        "id": "BwVV3ODwJd07"
      },
      "execution_count": null,
      "outputs": []
    },
    {
      "cell_type": "markdown",
      "source": [
        "## TSV "
      ],
      "metadata": {
        "id": "EJOymILIJvPX"
      }
    },
    {
      "cell_type": "code",
      "source": [
        "temp = [x + '_' for x in datas['train']]\n",
        "temp"
      ],
      "metadata": {
        "id": "98nZc9ut_kIa"
      },
      "execution_count": null,
      "outputs": []
    },
    {
      "cell_type": "code",
      "source": [
        "zxc = table[table['Names'].str.contains('|'.join(temp))]\n",
        "zxc"
      ],
      "metadata": {
        "id": "NaS6rKtK6FF0"
      },
      "execution_count": null,
      "outputs": []
    },
    {
      "cell_type": "code",
      "source": [
        "zxc.to_csv('train.tsv', sep='\\t', index=False)\n",
        "!cp /content/train.tsv /content/drive/MyDrive/SPbU_smart-assistant"
      ],
      "metadata": {
        "id": "xZnyuLotIhbn"
      },
      "execution_count": 71,
      "outputs": []
    },
    {
      "cell_type": "code",
      "source": [
        "temp = [x + '_' for x in datas['test']]\n",
        "temp"
      ],
      "metadata": {
        "id": "3CyrITM0Jahg"
      },
      "execution_count": null,
      "outputs": []
    },
    {
      "cell_type": "code",
      "source": [
        "zxc = table[table['Names'].str.contains('|'.join(temp))]\n",
        "zxc"
      ],
      "metadata": {
        "id": "Pw0rTvQRJS9H"
      },
      "execution_count": null,
      "outputs": []
    },
    {
      "cell_type": "code",
      "source": [
        "zxc.to_csv('test.tsv', sep='\\t', index=False)\n",
        "!cp /content/test.tsv /content/drive/MyDrive/SPbU_smart-assistant"
      ],
      "metadata": {
        "id": "qRmRfYUPJTg_"
      },
      "execution_count": 77,
      "outputs": []
    },
    {
      "cell_type": "markdown",
      "source": [
        "##augs"
      ],
      "metadata": {
        "id": "B9584bdGKQF4"
      }
    },
    {
      "cell_type": "code",
      "source": [
        "print(\"******\")\n",
        "if not os.path.exists(\"./raw\"):\n",
        "  os.makedirs(\"./raw\")\n",
        "  for key in datas.keys():\n",
        "    os.makedirs(f\"./raw/{key}\")"
      ],
      "metadata": {
        "colab": {
          "base_uri": "https://localhost:8080/"
        },
        "id": "hvGVzItHIEb1",
        "outputId": "bd3e196a-3c4e-49ff-99dc-b267dd39ca63"
      },
      "execution_count": 26,
      "outputs": [
        {
          "output_type": "stream",
          "name": "stdout",
          "text": [
            "******\n"
          ]
        }
      ]
    },
    {
      "cell_type": "code",
      "source": [
        "for key, vals in datas.items():\n",
        "  for name in vals:\n",
        "    audio_path = f\"/content/drive/MyDrive/SPbU_smart-assistant/raw/{name}.wav\"\n",
        "    sample, sr = librosa.core.load(audio_path)\n",
        "    name = audio_path.split('/')[-1]\n",
        "    sf.write(f'./raw/{key}/{name}', sample, samplerate=sr)\n",
        "\n",
        "# for audio_path in glob.glob(\"/content/drive/MyDrive/SPbU_smart-assistant/raw/*.*\"):\n",
        "#   sample, sr = librosa.core.load(audio_path)\n",
        "#   name = audio_path.split('/')[-1]\n",
        "#   sf.write(f'./raw/{name}', sample, samplerate=sr)\n",
        "print(\"Конец.\\n******\")"
      ],
      "metadata": {
        "id": "8RVYunn4oALH",
        "colab": {
          "base_uri": "https://localhost:8080/"
        },
        "outputId": "229274d8-e972-4cc8-ac14-7dca899b2195"
      },
      "execution_count": 27,
      "outputs": [
        {
          "output_type": "stream",
          "name": "stdout",
          "text": [
            "Конец.\n",
            "******\n"
          ]
        }
      ]
    },
    {
      "cell_type": "code",
      "source": [
        "#Вспомогательная функция из Nemo\n",
        "def load_audio(filepath) -> segment.AudioSegment:\n",
        "    sample_segment = segment.AudioSegment.from_file(filepath, target_sr=sr)\n",
        "    return sample_segment"
      ],
      "metadata": {
        "id": "6ndlLfncluer"
      },
      "execution_count": 28,
      "outputs": []
    },
    {
      "cell_type": "code",
      "source": [
        "#Функция создания манифеста шумов\n",
        "def write_manifest(filepath, data_dir='.', manifest_name='noise_manifest', duration_max=1e9, duration_stride=1.0):\n",
        "              \n",
        "    with open(os.path.join(data_dir, manifest_name + '.json'), 'w') as fout:\n",
        "        y, sr = librosa.load(filepath)\n",
        "        duration = librosa.get_duration(y=y, sr=sr)\n",
        "\n",
        "        offsets = []\n",
        "        durations = []\n",
        "\n",
        "        if duration > duration_max:\n",
        "            current_offset = 0.0\n",
        "\n",
        "            while current_offset < duration:\n",
        "                difference = duration - current_offset\n",
        "                segment_duration = min(duration_max, difference)\n",
        "\n",
        "                offsets.append(current_offset)\n",
        "                durations.append(segment_duration)\n",
        "\n",
        "                current_offset += duration_stride\n",
        "\n",
        "        else:\n",
        "            offsets.append(0.0)\n",
        "            durations.append(duration)\n",
        "\n",
        "\n",
        "        for duration, offset in zip(durations, offsets):\n",
        "            metadata = {\n",
        "                'audio_filepath': filepath,\n",
        "                'duration': duration,\n",
        "                'label': 'noise',\n",
        "                'text': '_',  # for compatibility with ASRAudioText collection\n",
        "                'offset': offset,\n",
        "            }\n",
        "\n",
        "            json.dump(metadata, fout)\n",
        "            fout.write('\\n')\n",
        "            fout.flush()\n",
        "\n",
        "        name = noise_path.split('/')[-1]\n",
        "        print(f\"Wrote {len(durations)} segments for filename {name}\")\n",
        "            \n",
        "    print(\"Finished preparing manifest !\")"
      ],
      "metadata": {
        "id": "HLWASQKAlxoZ"
      },
      "execution_count": 29,
      "outputs": []
    },
    {
      "cell_type": "code",
      "source": [
        "if not os.path.exists(\"./noises\"):\n",
        "  os.makedirs(\"./noises\")\n",
        "\n",
        "for noise_path in glob.glob(\"/content/drive/MyDrive/SPbU_smart-assistant/noises/*.*\"):\n",
        "  sample, sr = librosa.core.load(noise_path)\n",
        "  name = noise_path.split('/')[-1]\n",
        "  sf.write(f'./noises/{name}', sample, samplerate=sr)"
      ],
      "metadata": {
        "id": "J5Z-4e3IfhO2"
      },
      "execution_count": 30,
      "outputs": []
    },
    {
      "cell_type": "code",
      "source": [
        "#Манифесты для всех аудио шумов\n",
        "if not os.path.exists(\"./manifests\"):\n",
        "  os.makedirs(\"./manifests\")\n",
        "\n",
        "for noise_path in glob.glob(\"./noises/*.*\"):\n",
        "  name = noise_path.split('/')[-1][:-4]\n",
        "  write_manifest(noise_path, data_dir='./manifests', manifest_name=f'noise_{name}', duration_stride=1.0, duration_max=30.0)"
      ],
      "metadata": {
        "id": "ksUlj8Vul5EI"
      },
      "execution_count": null,
      "outputs": []
    },
    {
      "cell_type": "code",
      "source": [
        "import numpy as np\n",
        "num = 15 #(умножается на количество оригинальных записей)\n",
        "count = [i for i in range(num)]\n",
        "first, second, third = np.array_split(count, 3)"
      ],
      "metadata": {
        "id": "KNv1SaeGywtB"
      },
      "execution_count": 32,
      "outputs": []
    },
    {
      "cell_type": "code",
      "source": [
        "#Здесь используется speedperturburation, вероятности шумов снижены\n",
        "#Вероятности аугументаций\n",
        "probas = [0.5, 0.5, 0.5, 1.0]\n",
        "\n",
        "for i in first:\n",
        "  #пайплайн аугументаций\n",
        "  perturbations = [\n",
        "    perturb.WhiteNoisePerturbation(min_level=-80, max_level=-40),\n",
        "    perturb.GainPerturbation(min_gain_dbfs=0, max_gain_dbfs=30),\n",
        "    #при изменении количества аудио шумов заменить 7 на новое количество\n",
        "    perturb.NoisePerturbation(manifest_path=f'./manifests/noise_{i%7+1}.json',\n",
        "                              min_snr_db=20, max_snr_db=10, max_gain_db=30.0),\n",
        "    perturb.SpeedPerturbation(sr, 'kaiser_best', min_speed_rate=0.5, \n",
        "                              max_speed_rate=2.0, num_rates=-1)]\n",
        "\n",
        "  augmentations = list(zip(probas, perturbations))\n",
        "  audio_augmentations = perturb.AudioAugmentor(augmentations)\n",
        "  for key in datas.keys():\n",
        "    for path in glob.glob(f\"./raw/{key}/*.*\"):\n",
        "      sample_segment = load_audio(path)\n",
        "      audio_augmentations.perturb(sample_segment)\n",
        "      name = path.split('/')[-1][:-4]\n",
        "\n",
        "\n",
        "      sf.write(f\"./drive/MyDrive/SPbU_smart-assistant/auto/{key}/{name}_speed_{i}.wav\", \n",
        "              sample_segment.samples, samplerate=sr, subtype='PCM_24')\n",
        "      print(f\"{key} {name}_speed_{i}.wav wrote\")"
      ],
      "metadata": {
        "id": "RAT7AsLtLz4d"
      },
      "execution_count": null,
      "outputs": []
    },
    {
      "cell_type": "code",
      "source": [
        "#Здесь используется TimeStretchPerturbation, вероятности шумов снижены\n",
        "#Вероятности аугументаций\n",
        "probas = [0.5, 0.5, 0.5, 1.0]\n",
        "\n",
        "for i in second:\n",
        "  #пайплайн аугументаций\n",
        "  perturbations = [\n",
        "    perturb.WhiteNoisePerturbation(min_level=-80, max_level=-40),\n",
        "    perturb.GainPerturbation(min_gain_dbfs=0, max_gain_dbfs=30),\n",
        "    #при изменении количества аудио шумов заменить 7 на новое количество\n",
        "    perturb.NoisePerturbation(manifest_path=f'./manifests/noise_{i%7+1}.json',\n",
        "                              min_snr_db=20, max_snr_db=10, max_gain_db=30.0),\n",
        "    perturb.TimeStretchPerturbation(min_speed_rate=0.5, max_speed_rate=2, \n",
        "                                    num_rates=-1)]\n",
        "\n",
        "  augmentations = list(zip(probas, perturbations))\n",
        "  audio_augmentations = perturb.AudioAugmentor(augmentations)\n",
        "\n",
        "  for key in datas.keys():\n",
        "    for path in glob.glob(f\"./raw/{key}/*.*\"):\n",
        "      sample_segment = load_audio(path)\n",
        "      audio_augmentations.perturb(sample_segment)\n",
        "      name = path.split('/')[-1][:-4]\n",
        "\n",
        "      sf.write(f\"./drive/MyDrive/SPbU_smart-assistant/auto/{key}/{name}_stretch_{i}.wav\", \n",
        "              sample_segment.samples, samplerate=sr, subtype='PCM_24')\n",
        "      print(f\"{key} {name}_stretch_{i}.wav wrote\")"
      ],
      "metadata": {
        "id": "cMm7ko9NjR1U"
      },
      "execution_count": null,
      "outputs": []
    },
    {
      "cell_type": "code",
      "source": [
        "#Здесь не используются временные аугументации, вероятности шумов 1\n",
        "#Вероятности аугументаций\n",
        "probas = [1.0, 1.0, 1.0]\n",
        "\n",
        "for i in third:\n",
        "  #пайплайн аугументаций\n",
        "  perturbations = [\n",
        "    perturb.WhiteNoisePerturbation(min_level=-60, max_level=-35),\n",
        "    perturb.GainPerturbation(min_gain_dbfs=0, max_gain_dbfs=30),\n",
        "    #при изменении количества аудио шумов заменить 7 на новое количество\n",
        "    perturb.NoisePerturbation(manifest_path=f'./manifests/noise_{i%7+1}.json',\n",
        "                              min_snr_db=20, max_snr_db=10, max_gain_db=30.0)]\n",
        "\n",
        "  augmentations = list(zip(probas, perturbations))\n",
        "  audio_augmentations = perturb.AudioAugmentor(augmentations)\n",
        "\n",
        "  for key in datas.keys():\n",
        "    for path in glob.glob(f\"./raw/{key}/*.*\"):\n",
        "      sample_segment = load_audio(path)\n",
        "      audio_augmentations.perturb(sample_segment)\n",
        "      name = path.split('/')[-1][:-4]\n",
        "\n",
        "      sf.write(f\"./drive/MyDrive/SPbU_smart-assistant/auto/{key}/{name}_noise_{i}.wav\", \n",
        "              sample_segment.samples, samplerate=sr, subtype='PCM_24')\n",
        "      print(f\"{key} {name}_noise_{i}.wav wrote\")"
      ],
      "metadata": {
        "id": "kT4ED7LyMt8A"
      },
      "execution_count": null,
      "outputs": []
    }
  ]
}